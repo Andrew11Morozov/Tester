{
  "nbformat": 4,
  "nbformat_minor": 0,
  "metadata": {
    "colab": {
      "provenance": [],
      "authorship_tag": "ABX9TyMnXlY1NKvd8C8sXdOU4Vqp",
      "include_colab_link": true
    },
    "kernelspec": {
      "name": "python3",
      "display_name": "Python 3"
    },
    "language_info": {
      "name": "python"
    }
  },
  "cells": [
    {
      "cell_type": "markdown",
      "metadata": {
        "id": "view-in-github",
        "colab_type": "text"
      },
      "source": [
        "<a href=\"https://colab.research.google.com/github/Andrew11Morozov/Tester/blob/main/test_nikita.ipynb\" target=\"_parent\"><img src=\"https://colab.research.google.com/assets/colab-badge.svg\" alt=\"Open In Colab\"/></a>"
      ]
    },
    {
      "cell_type": "markdown",
      "source": [
        "# Тестовое задание от Цифровой двойник, Никита\n"
      ],
      "metadata": {
        "id": "x5r1IsP4JVXP"
      }
    },
    {
      "cell_type": "markdown",
      "source": [
        "В качестве тестового задания предлагается\n",
        " сделать анализ предложенного датасета с фактической и прогнозной численностью населения в городах. Интересны социально-экономические выводы и гипотезы по дальнейшей работе с этими данными.\n",
        "\n",
        "\n"
      ],
      "metadata": {
        "id": "U7QNtFQcJPko"
      }
    },
    {
      "cell_type": "markdown",
      "source": [
        " Задание желательно оформить на R (Питоновский стек или MS Excel тоже возможен как равнозначная альтернатива), а результаты оформить в виде дашборда\n",
        "\n",
        "# Отчет о работе:\n",
        "\n",
        "Тестовое задание выполнено с помощью Colaboratory на языке Python. Дашборд выполнен на сайте public.tableau.com и представлен в виде публичного файла.\n",
        "Отчеты можно посмотреть перейдя по ссылкам:\n",
        "\n",
        "https://public.tableau.com/app/profile/andrew1788/viz/digitaltwin/digitaltwin#2\n",
        "\n",
        "\n",
        "В процессе работы с предложенными данными\n",
        "\n",
        "\n",
        "\n",
        "\n",
        " ## Подготовим данные для исследования\n",
        "\n",
        " Загрузка библиотек, которые понадобятся для работы с данными"
      ],
      "metadata": {
        "id": "v1EECBIFJP06"
      }
    },
    {
      "cell_type": "code",
      "source": [
        "import pandas as pd\n",
        "from google.colab import drive\n",
        "import datetime as dt\n",
        "import numpy as np\n",
        "import matplotlib.pyplot as plt\n",
        "import seaborn as sns\n",
        "import math as mth\n",
        "import plotly.express as px"
      ],
      "metadata": {
        "id": "1mvCJqoIJc86"
      },
      "execution_count": 1,
      "outputs": []
    },
    {
      "cell_type": "markdown",
      "source": [
        "Получение доступа к данным"
      ],
      "metadata": {
        "id": "PpfYHpoZsbaU"
      }
    },
    {
      "cell_type": "code",
      "source": [
        "drive.mount('/content/drive/')\n",
        "%cd /content/drive/My Drive/"
      ],
      "metadata": {
        "colab": {
          "base_uri": "https://localhost:8080/"
        },
        "id": "P2zapdvo85SB",
        "outputId": "beed39f9-0f23-4dff-f412-1d44591406a8"
      },
      "execution_count": 2,
      "outputs": [
        {
          "output_type": "stream",
          "name": "stdout",
          "text": [
            "Mounted at /content/drive/\n",
            "/content/drive/My Drive\n"
          ]
        }
      ]
    },
    {
      "cell_type": "markdown",
      "source": [
        "Чтение файла с данными"
      ],
      "metadata": {
        "id": "KjsQ9FIjsj5o"
      }
    },
    {
      "cell_type": "code",
      "source": [
        "df = pd.read_csv('forFBpost.csv', sep=';')\n",
        "df_1 = df"
      ],
      "metadata": {
        "id": "lsmBThr6CHq2"
      },
      "execution_count": 3,
      "outputs": []
    },
    {
      "cell_type": "markdown",
      "source": [
        "Рассмотрим, что за данные у нас есть?"
      ],
      "metadata": {
        "id": "wJwgeT-5sqbO"
      }
    },
    {
      "cell_type": "code",
      "source": [
        "df.info()"
      ],
      "metadata": {
        "colab": {
          "base_uri": "https://localhost:8080/"
        },
        "id": "cqodzN4tDD_N",
        "outputId": "3118d47b-8c5b-4a37-e502-0576289e3e11"
      },
      "execution_count": 4,
      "outputs": [
        {
          "output_type": "stream",
          "name": "stdout",
          "text": [
            "<class 'pandas.core.frame.DataFrame'>\n",
            "RangeIndex: 30250 entries, 0 to 30249\n",
            "Data columns (total 6 columns):\n",
            " #   Column           Non-Null Count  Dtype  \n",
            "---  ------           --------------  -----  \n",
            " 0   Город            30250 non-null  object \n",
            " 1   year             30250 non-null  int64  \n",
            " 2   fact             3250 non-null   float64\n",
            " 3   Модель           30250 non-null  float64\n",
            " 4   Нижняя граница   30250 non-null  float64\n",
            " 5   Верхняя граница  30250 non-null  float64\n",
            "dtypes: float64(4), int64(1), object(1)\n",
            "memory usage: 1.4+ MB\n"
          ]
        }
      ]
    },
    {
      "cell_type": "code",
      "source": [
        "df.sample(5)"
      ],
      "metadata": {
        "colab": {
          "base_uri": "https://localhost:8080/",
          "height": 206
        },
        "id": "qX7Rm_N-rpGu",
        "outputId": "08576a90-c4cd-4d74-f9ff-0c719b9d550e"
      },
      "execution_count": 5,
      "outputs": [
        {
          "output_type": "execute_result",
          "data": {
            "text/plain": [
              "            Город  year  fact    Модель  Нижняя граница  Верхняя граница\n",
              "5294     Никольск  2091   NaN    5100.0          5000.0           5200.0\n",
              "22936    Болохово  2067   NaN    5500.0          5400.0           5500.0\n",
              "1797   Райчихинск  2103   NaN   17400.0         16700.0          18100.0\n",
              "30073      Якутск  2065   NaN  658100.0        653600.0         662600.0\n",
              "6446      Ветлуга  2033   NaN    8400.0          8400.0           8500.0"
            ],
            "text/html": [
              "\n",
              "  <div id=\"df-9113a535-df53-490c-b5da-71b84a864cf5\" class=\"colab-df-container\">\n",
              "    <div>\n",
              "<style scoped>\n",
              "    .dataframe tbody tr th:only-of-type {\n",
              "        vertical-align: middle;\n",
              "    }\n",
              "\n",
              "    .dataframe tbody tr th {\n",
              "        vertical-align: top;\n",
              "    }\n",
              "\n",
              "    .dataframe thead th {\n",
              "        text-align: right;\n",
              "    }\n",
              "</style>\n",
              "<table border=\"1\" class=\"dataframe\">\n",
              "  <thead>\n",
              "    <tr style=\"text-align: right;\">\n",
              "      <th></th>\n",
              "      <th>Город</th>\n",
              "      <th>year</th>\n",
              "      <th>fact</th>\n",
              "      <th>Модель</th>\n",
              "      <th>Нижняя граница</th>\n",
              "      <th>Верхняя граница</th>\n",
              "    </tr>\n",
              "  </thead>\n",
              "  <tbody>\n",
              "    <tr>\n",
              "      <th>5294</th>\n",
              "      <td>Никольск</td>\n",
              "      <td>2091</td>\n",
              "      <td>NaN</td>\n",
              "      <td>5100.0</td>\n",
              "      <td>5000.0</td>\n",
              "      <td>5200.0</td>\n",
              "    </tr>\n",
              "    <tr>\n",
              "      <th>22936</th>\n",
              "      <td>Болохово</td>\n",
              "      <td>2067</td>\n",
              "      <td>NaN</td>\n",
              "      <td>5500.0</td>\n",
              "      <td>5400.0</td>\n",
              "      <td>5500.0</td>\n",
              "    </tr>\n",
              "    <tr>\n",
              "      <th>1797</th>\n",
              "      <td>Райчихинск</td>\n",
              "      <td>2103</td>\n",
              "      <td>NaN</td>\n",
              "      <td>17400.0</td>\n",
              "      <td>16700.0</td>\n",
              "      <td>18100.0</td>\n",
              "    </tr>\n",
              "    <tr>\n",
              "      <th>30073</th>\n",
              "      <td>Якутск</td>\n",
              "      <td>2065</td>\n",
              "      <td>NaN</td>\n",
              "      <td>658100.0</td>\n",
              "      <td>653600.0</td>\n",
              "      <td>662600.0</td>\n",
              "    </tr>\n",
              "    <tr>\n",
              "      <th>6446</th>\n",
              "      <td>Ветлуга</td>\n",
              "      <td>2033</td>\n",
              "      <td>NaN</td>\n",
              "      <td>8400.0</td>\n",
              "      <td>8400.0</td>\n",
              "      <td>8500.0</td>\n",
              "    </tr>\n",
              "  </tbody>\n",
              "</table>\n",
              "</div>\n",
              "    <div class=\"colab-df-buttons\">\n",
              "\n",
              "  <div class=\"colab-df-container\">\n",
              "    <button class=\"colab-df-convert\" onclick=\"convertToInteractive('df-9113a535-df53-490c-b5da-71b84a864cf5')\"\n",
              "            title=\"Convert this dataframe to an interactive table.\"\n",
              "            style=\"display:none;\">\n",
              "\n",
              "  <svg xmlns=\"http://www.w3.org/2000/svg\" height=\"24px\" viewBox=\"0 -960 960 960\">\n",
              "    <path d=\"M120-120v-720h720v720H120Zm60-500h600v-160H180v160Zm220 220h160v-160H400v160Zm0 220h160v-160H400v160ZM180-400h160v-160H180v160Zm440 0h160v-160H620v160ZM180-180h160v-160H180v160Zm440 0h160v-160H620v160Z\"/>\n",
              "  </svg>\n",
              "    </button>\n",
              "\n",
              "  <style>\n",
              "    .colab-df-container {\n",
              "      display:flex;\n",
              "      gap: 12px;\n",
              "    }\n",
              "\n",
              "    .colab-df-convert {\n",
              "      background-color: #E8F0FE;\n",
              "      border: none;\n",
              "      border-radius: 50%;\n",
              "      cursor: pointer;\n",
              "      display: none;\n",
              "      fill: #1967D2;\n",
              "      height: 32px;\n",
              "      padding: 0 0 0 0;\n",
              "      width: 32px;\n",
              "    }\n",
              "\n",
              "    .colab-df-convert:hover {\n",
              "      background-color: #E2EBFA;\n",
              "      box-shadow: 0px 1px 2px rgba(60, 64, 67, 0.3), 0px 1px 3px 1px rgba(60, 64, 67, 0.15);\n",
              "      fill: #174EA6;\n",
              "    }\n",
              "\n",
              "    .colab-df-buttons div {\n",
              "      margin-bottom: 4px;\n",
              "    }\n",
              "\n",
              "    [theme=dark] .colab-df-convert {\n",
              "      background-color: #3B4455;\n",
              "      fill: #D2E3FC;\n",
              "    }\n",
              "\n",
              "    [theme=dark] .colab-df-convert:hover {\n",
              "      background-color: #434B5C;\n",
              "      box-shadow: 0px 1px 3px 1px rgba(0, 0, 0, 0.15);\n",
              "      filter: drop-shadow(0px 1px 2px rgba(0, 0, 0, 0.3));\n",
              "      fill: #FFFFFF;\n",
              "    }\n",
              "  </style>\n",
              "\n",
              "    <script>\n",
              "      const buttonEl =\n",
              "        document.querySelector('#df-9113a535-df53-490c-b5da-71b84a864cf5 button.colab-df-convert');\n",
              "      buttonEl.style.display =\n",
              "        google.colab.kernel.accessAllowed ? 'block' : 'none';\n",
              "\n",
              "      async function convertToInteractive(key) {\n",
              "        const element = document.querySelector('#df-9113a535-df53-490c-b5da-71b84a864cf5');\n",
              "        const dataTable =\n",
              "          await google.colab.kernel.invokeFunction('convertToInteractive',\n",
              "                                                    [key], {});\n",
              "        if (!dataTable) return;\n",
              "\n",
              "        const docLinkHtml = 'Like what you see? Visit the ' +\n",
              "          '<a target=\"_blank\" href=https://colab.research.google.com/notebooks/data_table.ipynb>data table notebook</a>'\n",
              "          + ' to learn more about interactive tables.';\n",
              "        element.innerHTML = '';\n",
              "        dataTable['output_type'] = 'display_data';\n",
              "        await google.colab.output.renderOutput(dataTable, element);\n",
              "        const docLink = document.createElement('div');\n",
              "        docLink.innerHTML = docLinkHtml;\n",
              "        element.appendChild(docLink);\n",
              "      }\n",
              "    </script>\n",
              "  </div>\n",
              "\n",
              "\n",
              "<div id=\"df-0168d09d-ecab-49e6-8c3f-83d54c5cd71b\">\n",
              "  <button class=\"colab-df-quickchart\" onclick=\"quickchart('df-0168d09d-ecab-49e6-8c3f-83d54c5cd71b')\"\n",
              "            title=\"Suggest charts\"\n",
              "            style=\"display:none;\">\n",
              "\n",
              "<svg xmlns=\"http://www.w3.org/2000/svg\" height=\"24px\"viewBox=\"0 0 24 24\"\n",
              "     width=\"24px\">\n",
              "    <g>\n",
              "        <path d=\"M19 3H5c-1.1 0-2 .9-2 2v14c0 1.1.9 2 2 2h14c1.1 0 2-.9 2-2V5c0-1.1-.9-2-2-2zM9 17H7v-7h2v7zm4 0h-2V7h2v10zm4 0h-2v-4h2v4z\"/>\n",
              "    </g>\n",
              "</svg>\n",
              "  </button>\n",
              "\n",
              "<style>\n",
              "  .colab-df-quickchart {\n",
              "      --bg-color: #E8F0FE;\n",
              "      --fill-color: #1967D2;\n",
              "      --hover-bg-color: #E2EBFA;\n",
              "      --hover-fill-color: #174EA6;\n",
              "      --disabled-fill-color: #AAA;\n",
              "      --disabled-bg-color: #DDD;\n",
              "  }\n",
              "\n",
              "  [theme=dark] .colab-df-quickchart {\n",
              "      --bg-color: #3B4455;\n",
              "      --fill-color: #D2E3FC;\n",
              "      --hover-bg-color: #434B5C;\n",
              "      --hover-fill-color: #FFFFFF;\n",
              "      --disabled-bg-color: #3B4455;\n",
              "      --disabled-fill-color: #666;\n",
              "  }\n",
              "\n",
              "  .colab-df-quickchart {\n",
              "    background-color: var(--bg-color);\n",
              "    border: none;\n",
              "    border-radius: 50%;\n",
              "    cursor: pointer;\n",
              "    display: none;\n",
              "    fill: var(--fill-color);\n",
              "    height: 32px;\n",
              "    padding: 0;\n",
              "    width: 32px;\n",
              "  }\n",
              "\n",
              "  .colab-df-quickchart:hover {\n",
              "    background-color: var(--hover-bg-color);\n",
              "    box-shadow: 0 1px 2px rgba(60, 64, 67, 0.3), 0 1px 3px 1px rgba(60, 64, 67, 0.15);\n",
              "    fill: var(--button-hover-fill-color);\n",
              "  }\n",
              "\n",
              "  .colab-df-quickchart-complete:disabled,\n",
              "  .colab-df-quickchart-complete:disabled:hover {\n",
              "    background-color: var(--disabled-bg-color);\n",
              "    fill: var(--disabled-fill-color);\n",
              "    box-shadow: none;\n",
              "  }\n",
              "\n",
              "  .colab-df-spinner {\n",
              "    border: 2px solid var(--fill-color);\n",
              "    border-color: transparent;\n",
              "    border-bottom-color: var(--fill-color);\n",
              "    animation:\n",
              "      spin 1s steps(1) infinite;\n",
              "  }\n",
              "\n",
              "  @keyframes spin {\n",
              "    0% {\n",
              "      border-color: transparent;\n",
              "      border-bottom-color: var(--fill-color);\n",
              "      border-left-color: var(--fill-color);\n",
              "    }\n",
              "    20% {\n",
              "      border-color: transparent;\n",
              "      border-left-color: var(--fill-color);\n",
              "      border-top-color: var(--fill-color);\n",
              "    }\n",
              "    30% {\n",
              "      border-color: transparent;\n",
              "      border-left-color: var(--fill-color);\n",
              "      border-top-color: var(--fill-color);\n",
              "      border-right-color: var(--fill-color);\n",
              "    }\n",
              "    40% {\n",
              "      border-color: transparent;\n",
              "      border-right-color: var(--fill-color);\n",
              "      border-top-color: var(--fill-color);\n",
              "    }\n",
              "    60% {\n",
              "      border-color: transparent;\n",
              "      border-right-color: var(--fill-color);\n",
              "    }\n",
              "    80% {\n",
              "      border-color: transparent;\n",
              "      border-right-color: var(--fill-color);\n",
              "      border-bottom-color: var(--fill-color);\n",
              "    }\n",
              "    90% {\n",
              "      border-color: transparent;\n",
              "      border-bottom-color: var(--fill-color);\n",
              "    }\n",
              "  }\n",
              "</style>\n",
              "\n",
              "  <script>\n",
              "    async function quickchart(key) {\n",
              "      const quickchartButtonEl =\n",
              "        document.querySelector('#' + key + ' button');\n",
              "      quickchartButtonEl.disabled = true;  // To prevent multiple clicks.\n",
              "      quickchartButtonEl.classList.add('colab-df-spinner');\n",
              "      try {\n",
              "        const charts = await google.colab.kernel.invokeFunction(\n",
              "            'suggestCharts', [key], {});\n",
              "      } catch (error) {\n",
              "        console.error('Error during call to suggestCharts:', error);\n",
              "      }\n",
              "      quickchartButtonEl.classList.remove('colab-df-spinner');\n",
              "      quickchartButtonEl.classList.add('colab-df-quickchart-complete');\n",
              "    }\n",
              "    (() => {\n",
              "      let quickchartButtonEl =\n",
              "        document.querySelector('#df-0168d09d-ecab-49e6-8c3f-83d54c5cd71b button');\n",
              "      quickchartButtonEl.style.display =\n",
              "        google.colab.kernel.accessAllowed ? 'block' : 'none';\n",
              "    })();\n",
              "  </script>\n",
              "</div>\n",
              "    </div>\n",
              "  </div>\n"
            ],
            "application/vnd.google.colaboratory.intrinsic+json": {
              "type": "dataframe",
              "summary": "{\n  \"name\": \"df\",\n  \"rows\": 5,\n  \"fields\": [\n    {\n      \"column\": \"\\u0413\\u043e\\u0440\\u043e\\u0434\",\n      \"properties\": {\n        \"dtype\": \"string\",\n        \"num_unique_values\": 5,\n        \"samples\": [\n          \"\\u0411\\u043e\\u043b\\u043e\\u0445\\u043e\\u0432\\u043e\",\n          \"\\u0412\\u0435\\u0442\\u043b\\u0443\\u0433\\u0430\",\n          \"\\u0420\\u0430\\u0439\\u0447\\u0438\\u0445\\u0438\\u043d\\u0441\\u043a\"\n        ],\n        \"semantic_type\": \"\",\n        \"description\": \"\"\n      }\n    },\n    {\n      \"column\": \"year\",\n      \"properties\": {\n        \"dtype\": \"number\",\n        \"std\": 27,\n        \"min\": 2033,\n        \"max\": 2103,\n        \"num_unique_values\": 5,\n        \"samples\": [\n          2067,\n          2033,\n          2103\n        ],\n        \"semantic_type\": \"\",\n        \"description\": \"\"\n      }\n    },\n    {\n      \"column\": \"fact\",\n      \"properties\": {\n        \"dtype\": \"number\",\n        \"std\": null,\n        \"min\": null,\n        \"max\": null,\n        \"num_unique_values\": 0,\n        \"samples\": [],\n        \"semantic_type\": \"\",\n        \"description\": \"\"\n      }\n    },\n    {\n      \"column\": \"\\u041c\\u043e\\u0434\\u0435\\u043b\\u044c\",\n      \"properties\": {\n        \"dtype\": \"number\",\n        \"std\": 290283.97303330404,\n        \"min\": 5100.0,\n        \"max\": 658100.0,\n        \"num_unique_values\": 5,\n        \"samples\": [],\n        \"semantic_type\": \"\",\n        \"description\": \"\"\n      }\n    },\n    {\n      \"column\": \"\\u041d\\u0438\\u0436\\u043d\\u044f\\u044f \\u0433\\u0440\\u0430\\u043d\\u0438\\u0446\\u0430\",\n      \"properties\": {\n        \"dtype\": \"number\",\n        \"std\": 288368.1709204398,\n        \"min\": 5000.0,\n        \"max\": 653600.0,\n        \"num_unique_values\": 5,\n        \"samples\": [],\n        \"semantic_type\": \"\",\n        \"description\": \"\"\n      }\n    },\n    {\n      \"column\": \"\\u0412\\u0435\\u0440\\u0445\\u043d\\u044f\\u044f \\u0433\\u0440\\u0430\\u043d\\u0438\\u0446\\u0430\",\n      \"properties\": {\n        \"dtype\": \"number\",\n        \"std\": 292200.2344283796,\n        \"min\": 5200.0,\n        \"max\": 662600.0,\n        \"num_unique_values\": 5,\n        \"samples\": [],\n        \"semantic_type\": \"\",\n        \"description\": \"\"\n      }\n    }\n  ]\n}"
            }
          },
          "metadata": {},
          "execution_count": 5
        }
      ]
    },
    {
      "cell_type": "markdown",
      "source": [
        "Первый взгляд на данные:\n",
        "\n",
        "Данные содержат 30250 строк.\n",
        "\n",
        "Предполагаемые легенды полей\n",
        "\n",
        "**Город**\t- название города;\n",
        "\n",
        "**year** - год исследования или прогноза;\n",
        "\n",
        "**fact** - фактическое количество населения, если доступно (известно);\n",
        "\n",
        "**Модель** - Количество населения, подсчитанное моделью;\n",
        "\n",
        "**Нижняя граница** - нижняя граница количество населения, подсчитанного моделью;\n",
        "\n",
        "**Верхняя граница** - верхняя граница количество населения, подсчитанного моделью.\n",
        "\n",
        "Отсутствие данных в столбце **fact** объясняется отсутствием данных по фактическому населению в прошедшие периоды и датами в будущем.\n",
        "\n",
        "Таких строк в датасете:"
      ],
      "metadata": {
        "id": "R9JX40Sur5c7"
      }
    },
    {
      "cell_type": "code",
      "source": [
        "df.isna().sum()\n",
        "\n"
      ],
      "metadata": {
        "colab": {
          "base_uri": "https://localhost:8080/"
        },
        "id": "GvOL60VPIhgD",
        "outputId": "010df005-5a2f-41a9-b097-eefbbb29e14b"
      },
      "execution_count": 6,
      "outputs": [
        {
          "output_type": "execute_result",
          "data": {
            "text/plain": [
              "Город                  0\n",
              "year                   0\n",
              "fact               27000\n",
              "Модель                 0\n",
              "Нижняя граница         0\n",
              "Верхняя граница        0\n",
              "dtype: int64"
            ]
          },
          "metadata": {},
          "execution_count": 6
        }
      ]
    },
    {
      "cell_type": "markdown",
      "source": [
        "Для дальнейшей работы приведем в соответствие правилам pandas название столбцов, а также тип данных.\n",
        "\n",
        "**year** в тип *time*, а **Нижняя и Верхняя граница, fact, model** в тип *int64*"
      ],
      "metadata": {
        "id": "vQfSC7eaLT0A"
      }
    },
    {
      "cell_type": "code",
      "source": [
        "# переименование столбцов\n",
        "df = df.rename(columns={'Город': 'town', 'year': 'year', 'Модель': 'model', 'Нижняя граница': 'lower_limit', 'Верхняя граница': 'upper_limit'})"
      ],
      "metadata": {
        "id": "wdw17s13zKXh"
      },
      "execution_count": 7,
      "outputs": []
    },
    {
      "cell_type": "code",
      "source": [
        "df.sample(5)"
      ],
      "metadata": {
        "id": "tVBEo5Z4LrH-",
        "colab": {
          "base_uri": "https://localhost:8080/",
          "height": 206
        },
        "outputId": "d2824e75-3f3d-4d59-fc3a-fc6531815afb"
      },
      "execution_count": 8,
      "outputs": [
        {
          "output_type": "execute_result",
          "data": {
            "text/plain": [
              "              town  year  fact     model  lower_limit  upper_limit\n",
              "12733    Евпатория  2028   NaN  124700.0     124300.0     125100.0\n",
              "1561     Завитинск  2109   NaN   10700.0      10400.0      11000.0\n",
              "23867     Тобольск  2030   NaN  101700.0     101200.0     102200.0\n",
              "19894  Красный Кут  2050   NaN   18300.0      17900.0      18800.0\n",
              "8090     Приволжск  2104   NaN    5900.0       5700.0       6100.0"
            ],
            "text/html": [
              "\n",
              "  <div id=\"df-57d4350f-1945-4cf6-8393-535ac585dc1d\" class=\"colab-df-container\">\n",
              "    <div>\n",
              "<style scoped>\n",
              "    .dataframe tbody tr th:only-of-type {\n",
              "        vertical-align: middle;\n",
              "    }\n",
              "\n",
              "    .dataframe tbody tr th {\n",
              "        vertical-align: top;\n",
              "    }\n",
              "\n",
              "    .dataframe thead th {\n",
              "        text-align: right;\n",
              "    }\n",
              "</style>\n",
              "<table border=\"1\" class=\"dataframe\">\n",
              "  <thead>\n",
              "    <tr style=\"text-align: right;\">\n",
              "      <th></th>\n",
              "      <th>town</th>\n",
              "      <th>year</th>\n",
              "      <th>fact</th>\n",
              "      <th>model</th>\n",
              "      <th>lower_limit</th>\n",
              "      <th>upper_limit</th>\n",
              "    </tr>\n",
              "  </thead>\n",
              "  <tbody>\n",
              "    <tr>\n",
              "      <th>12733</th>\n",
              "      <td>Евпатория</td>\n",
              "      <td>2028</td>\n",
              "      <td>NaN</td>\n",
              "      <td>124700.0</td>\n",
              "      <td>124300.0</td>\n",
              "      <td>125100.0</td>\n",
              "    </tr>\n",
              "    <tr>\n",
              "      <th>1561</th>\n",
              "      <td>Завитинск</td>\n",
              "      <td>2109</td>\n",
              "      <td>NaN</td>\n",
              "      <td>10700.0</td>\n",
              "      <td>10400.0</td>\n",
              "      <td>11000.0</td>\n",
              "    </tr>\n",
              "    <tr>\n",
              "      <th>23867</th>\n",
              "      <td>Тобольск</td>\n",
              "      <td>2030</td>\n",
              "      <td>NaN</td>\n",
              "      <td>101700.0</td>\n",
              "      <td>101200.0</td>\n",
              "      <td>102200.0</td>\n",
              "    </tr>\n",
              "    <tr>\n",
              "      <th>19894</th>\n",
              "      <td>Красный Кут</td>\n",
              "      <td>2050</td>\n",
              "      <td>NaN</td>\n",
              "      <td>18300.0</td>\n",
              "      <td>17900.0</td>\n",
              "      <td>18800.0</td>\n",
              "    </tr>\n",
              "    <tr>\n",
              "      <th>8090</th>\n",
              "      <td>Приволжск</td>\n",
              "      <td>2104</td>\n",
              "      <td>NaN</td>\n",
              "      <td>5900.0</td>\n",
              "      <td>5700.0</td>\n",
              "      <td>6100.0</td>\n",
              "    </tr>\n",
              "  </tbody>\n",
              "</table>\n",
              "</div>\n",
              "    <div class=\"colab-df-buttons\">\n",
              "\n",
              "  <div class=\"colab-df-container\">\n",
              "    <button class=\"colab-df-convert\" onclick=\"convertToInteractive('df-57d4350f-1945-4cf6-8393-535ac585dc1d')\"\n",
              "            title=\"Convert this dataframe to an interactive table.\"\n",
              "            style=\"display:none;\">\n",
              "\n",
              "  <svg xmlns=\"http://www.w3.org/2000/svg\" height=\"24px\" viewBox=\"0 -960 960 960\">\n",
              "    <path d=\"M120-120v-720h720v720H120Zm60-500h600v-160H180v160Zm220 220h160v-160H400v160Zm0 220h160v-160H400v160ZM180-400h160v-160H180v160Zm440 0h160v-160H620v160ZM180-180h160v-160H180v160Zm440 0h160v-160H620v160Z\"/>\n",
              "  </svg>\n",
              "    </button>\n",
              "\n",
              "  <style>\n",
              "    .colab-df-container {\n",
              "      display:flex;\n",
              "      gap: 12px;\n",
              "    }\n",
              "\n",
              "    .colab-df-convert {\n",
              "      background-color: #E8F0FE;\n",
              "      border: none;\n",
              "      border-radius: 50%;\n",
              "      cursor: pointer;\n",
              "      display: none;\n",
              "      fill: #1967D2;\n",
              "      height: 32px;\n",
              "      padding: 0 0 0 0;\n",
              "      width: 32px;\n",
              "    }\n",
              "\n",
              "    .colab-df-convert:hover {\n",
              "      background-color: #E2EBFA;\n",
              "      box-shadow: 0px 1px 2px rgba(60, 64, 67, 0.3), 0px 1px 3px 1px rgba(60, 64, 67, 0.15);\n",
              "      fill: #174EA6;\n",
              "    }\n",
              "\n",
              "    .colab-df-buttons div {\n",
              "      margin-bottom: 4px;\n",
              "    }\n",
              "\n",
              "    [theme=dark] .colab-df-convert {\n",
              "      background-color: #3B4455;\n",
              "      fill: #D2E3FC;\n",
              "    }\n",
              "\n",
              "    [theme=dark] .colab-df-convert:hover {\n",
              "      background-color: #434B5C;\n",
              "      box-shadow: 0px 1px 3px 1px rgba(0, 0, 0, 0.15);\n",
              "      filter: drop-shadow(0px 1px 2px rgba(0, 0, 0, 0.3));\n",
              "      fill: #FFFFFF;\n",
              "    }\n",
              "  </style>\n",
              "\n",
              "    <script>\n",
              "      const buttonEl =\n",
              "        document.querySelector('#df-57d4350f-1945-4cf6-8393-535ac585dc1d button.colab-df-convert');\n",
              "      buttonEl.style.display =\n",
              "        google.colab.kernel.accessAllowed ? 'block' : 'none';\n",
              "\n",
              "      async function convertToInteractive(key) {\n",
              "        const element = document.querySelector('#df-57d4350f-1945-4cf6-8393-535ac585dc1d');\n",
              "        const dataTable =\n",
              "          await google.colab.kernel.invokeFunction('convertToInteractive',\n",
              "                                                    [key], {});\n",
              "        if (!dataTable) return;\n",
              "\n",
              "        const docLinkHtml = 'Like what you see? Visit the ' +\n",
              "          '<a target=\"_blank\" href=https://colab.research.google.com/notebooks/data_table.ipynb>data table notebook</a>'\n",
              "          + ' to learn more about interactive tables.';\n",
              "        element.innerHTML = '';\n",
              "        dataTable['output_type'] = 'display_data';\n",
              "        await google.colab.output.renderOutput(dataTable, element);\n",
              "        const docLink = document.createElement('div');\n",
              "        docLink.innerHTML = docLinkHtml;\n",
              "        element.appendChild(docLink);\n",
              "      }\n",
              "    </script>\n",
              "  </div>\n",
              "\n",
              "\n",
              "<div id=\"df-fa8cbae2-7a6a-4692-9067-8497f742738e\">\n",
              "  <button class=\"colab-df-quickchart\" onclick=\"quickchart('df-fa8cbae2-7a6a-4692-9067-8497f742738e')\"\n",
              "            title=\"Suggest charts\"\n",
              "            style=\"display:none;\">\n",
              "\n",
              "<svg xmlns=\"http://www.w3.org/2000/svg\" height=\"24px\"viewBox=\"0 0 24 24\"\n",
              "     width=\"24px\">\n",
              "    <g>\n",
              "        <path d=\"M19 3H5c-1.1 0-2 .9-2 2v14c0 1.1.9 2 2 2h14c1.1 0 2-.9 2-2V5c0-1.1-.9-2-2-2zM9 17H7v-7h2v7zm4 0h-2V7h2v10zm4 0h-2v-4h2v4z\"/>\n",
              "    </g>\n",
              "</svg>\n",
              "  </button>\n",
              "\n",
              "<style>\n",
              "  .colab-df-quickchart {\n",
              "      --bg-color: #E8F0FE;\n",
              "      --fill-color: #1967D2;\n",
              "      --hover-bg-color: #E2EBFA;\n",
              "      --hover-fill-color: #174EA6;\n",
              "      --disabled-fill-color: #AAA;\n",
              "      --disabled-bg-color: #DDD;\n",
              "  }\n",
              "\n",
              "  [theme=dark] .colab-df-quickchart {\n",
              "      --bg-color: #3B4455;\n",
              "      --fill-color: #D2E3FC;\n",
              "      --hover-bg-color: #434B5C;\n",
              "      --hover-fill-color: #FFFFFF;\n",
              "      --disabled-bg-color: #3B4455;\n",
              "      --disabled-fill-color: #666;\n",
              "  }\n",
              "\n",
              "  .colab-df-quickchart {\n",
              "    background-color: var(--bg-color);\n",
              "    border: none;\n",
              "    border-radius: 50%;\n",
              "    cursor: pointer;\n",
              "    display: none;\n",
              "    fill: var(--fill-color);\n",
              "    height: 32px;\n",
              "    padding: 0;\n",
              "    width: 32px;\n",
              "  }\n",
              "\n",
              "  .colab-df-quickchart:hover {\n",
              "    background-color: var(--hover-bg-color);\n",
              "    box-shadow: 0 1px 2px rgba(60, 64, 67, 0.3), 0 1px 3px 1px rgba(60, 64, 67, 0.15);\n",
              "    fill: var(--button-hover-fill-color);\n",
              "  }\n",
              "\n",
              "  .colab-df-quickchart-complete:disabled,\n",
              "  .colab-df-quickchart-complete:disabled:hover {\n",
              "    background-color: var(--disabled-bg-color);\n",
              "    fill: var(--disabled-fill-color);\n",
              "    box-shadow: none;\n",
              "  }\n",
              "\n",
              "  .colab-df-spinner {\n",
              "    border: 2px solid var(--fill-color);\n",
              "    border-color: transparent;\n",
              "    border-bottom-color: var(--fill-color);\n",
              "    animation:\n",
              "      spin 1s steps(1) infinite;\n",
              "  }\n",
              "\n",
              "  @keyframes spin {\n",
              "    0% {\n",
              "      border-color: transparent;\n",
              "      border-bottom-color: var(--fill-color);\n",
              "      border-left-color: var(--fill-color);\n",
              "    }\n",
              "    20% {\n",
              "      border-color: transparent;\n",
              "      border-left-color: var(--fill-color);\n",
              "      border-top-color: var(--fill-color);\n",
              "    }\n",
              "    30% {\n",
              "      border-color: transparent;\n",
              "      border-left-color: var(--fill-color);\n",
              "      border-top-color: var(--fill-color);\n",
              "      border-right-color: var(--fill-color);\n",
              "    }\n",
              "    40% {\n",
              "      border-color: transparent;\n",
              "      border-right-color: var(--fill-color);\n",
              "      border-top-color: var(--fill-color);\n",
              "    }\n",
              "    60% {\n",
              "      border-color: transparent;\n",
              "      border-right-color: var(--fill-color);\n",
              "    }\n",
              "    80% {\n",
              "      border-color: transparent;\n",
              "      border-right-color: var(--fill-color);\n",
              "      border-bottom-color: var(--fill-color);\n",
              "    }\n",
              "    90% {\n",
              "      border-color: transparent;\n",
              "      border-bottom-color: var(--fill-color);\n",
              "    }\n",
              "  }\n",
              "</style>\n",
              "\n",
              "  <script>\n",
              "    async function quickchart(key) {\n",
              "      const quickchartButtonEl =\n",
              "        document.querySelector('#' + key + ' button');\n",
              "      quickchartButtonEl.disabled = true;  // To prevent multiple clicks.\n",
              "      quickchartButtonEl.classList.add('colab-df-spinner');\n",
              "      try {\n",
              "        const charts = await google.colab.kernel.invokeFunction(\n",
              "            'suggestCharts', [key], {});\n",
              "      } catch (error) {\n",
              "        console.error('Error during call to suggestCharts:', error);\n",
              "      }\n",
              "      quickchartButtonEl.classList.remove('colab-df-spinner');\n",
              "      quickchartButtonEl.classList.add('colab-df-quickchart-complete');\n",
              "    }\n",
              "    (() => {\n",
              "      let quickchartButtonEl =\n",
              "        document.querySelector('#df-fa8cbae2-7a6a-4692-9067-8497f742738e button');\n",
              "      quickchartButtonEl.style.display =\n",
              "        google.colab.kernel.accessAllowed ? 'block' : 'none';\n",
              "    })();\n",
              "  </script>\n",
              "</div>\n",
              "    </div>\n",
              "  </div>\n"
            ],
            "application/vnd.google.colaboratory.intrinsic+json": {
              "type": "dataframe",
              "summary": "{\n  \"name\": \"df\",\n  \"rows\": 5,\n  \"fields\": [\n    {\n      \"column\": \"town\",\n      \"properties\": {\n        \"dtype\": \"string\",\n        \"num_unique_values\": 5,\n        \"samples\": [\n          \"\\u0417\\u0430\\u0432\\u0438\\u0442\\u0438\\u043d\\u0441\\u043a\",\n          \"\\u041f\\u0440\\u0438\\u0432\\u043e\\u043b\\u0436\\u0441\\u043a\",\n          \"\\u0422\\u043e\\u0431\\u043e\\u043b\\u044c\\u0441\\u043a\"\n        ],\n        \"semantic_type\": \"\",\n        \"description\": \"\"\n      }\n    },\n    {\n      \"column\": \"year\",\n      \"properties\": {\n        \"dtype\": \"number\",\n        \"std\": 39,\n        \"min\": 2028,\n        \"max\": 2109,\n        \"num_unique_values\": 5,\n        \"samples\": [\n          2109,\n          2104,\n          2030\n        ],\n        \"semantic_type\": \"\",\n        \"description\": \"\"\n      }\n    },\n    {\n      \"column\": \"fact\",\n      \"properties\": {\n        \"dtype\": \"number\",\n        \"std\": null,\n        \"min\": null,\n        \"max\": null,\n        \"num_unique_values\": 0,\n        \"samples\": [],\n        \"semantic_type\": \"\",\n        \"description\": \"\"\n      }\n    },\n    {\n      \"column\": \"model\",\n      \"properties\": {\n        \"dtype\": \"number\",\n        \"std\": 56395.10617065988,\n        \"min\": 5900.0,\n        \"max\": 124700.0,\n        \"num_unique_values\": 5,\n        \"samples\": [],\n        \"semantic_type\": \"\",\n        \"description\": \"\"\n      }\n    },\n    {\n      \"column\": \"lower_limit\",\n      \"properties\": {\n        \"dtype\": \"number\",\n        \"std\": 56313.71946515343,\n        \"min\": 5700.0,\n        \"max\": 124300.0,\n        \"num_unique_values\": 5,\n        \"samples\": [],\n        \"semantic_type\": \"\",\n        \"description\": \"\"\n      }\n    },\n    {\n      \"column\": \"upper_limit\",\n      \"properties\": {\n        \"dtype\": \"number\",\n        \"std\": 56461.606424188816,\n        \"min\": 6100.0,\n        \"max\": 125100.0,\n        \"num_unique_values\": 5,\n        \"samples\": [],\n        \"semantic_type\": \"\",\n        \"description\": \"\"\n      }\n    }\n  ]\n}"
            }
          },
          "metadata": {},
          "execution_count": 8
        }
      ]
    },
    {
      "cell_type": "code",
      "source": [
        "# Приведем в соответствие формат даты\n",
        "df['year'] = pd.to_datetime(df['year'], format='%Y')\n",
        "df.info()"
      ],
      "metadata": {
        "id": "QlehX2H_LrLF",
        "colab": {
          "base_uri": "https://localhost:8080/"
        },
        "outputId": "af779518-9fea-41d9-a20d-b8ba5ffd8e79"
      },
      "execution_count": 9,
      "outputs": [
        {
          "output_type": "stream",
          "name": "stdout",
          "text": [
            "<class 'pandas.core.frame.DataFrame'>\n",
            "RangeIndex: 30250 entries, 0 to 30249\n",
            "Data columns (total 6 columns):\n",
            " #   Column       Non-Null Count  Dtype         \n",
            "---  ------       --------------  -----         \n",
            " 0   town         30250 non-null  object        \n",
            " 1   year         30250 non-null  datetime64[ns]\n",
            " 2   fact         3250 non-null   float64       \n",
            " 3   model        30250 non-null  float64       \n",
            " 4   lower_limit  30250 non-null  float64       \n",
            " 5   upper_limit  30250 non-null  float64       \n",
            "dtypes: datetime64[ns](1), float64(4), object(1)\n",
            "memory usage: 1.4+ MB\n"
          ]
        }
      ]
    },
    {
      "cell_type": "code",
      "source": [
        "df['year'] = pd.to_datetime(df['year'], format='%Y').dt.year"
      ],
      "metadata": {
        "id": "LEWQKCRgVhW1"
      },
      "execution_count": 10,
      "outputs": []
    },
    {
      "cell_type": "code",
      "source": [
        "df.head(10)"
      ],
      "metadata": {
        "colab": {
          "base_uri": "https://localhost:8080/",
          "height": 363
        },
        "id": "8IwABwcIVU0m",
        "outputId": "4f43e225-40f5-4189-9605-92241970e11f"
      },
      "execution_count": 11,
      "outputs": [
        {
          "output_type": "execute_result",
          "data": {
            "text/plain": [
              "         town  year     fact    model  lower_limit  upper_limit\n",
              "0  Белокуриха  2000      NaN  15400.0      15100.0      15700.0\n",
              "1  Белокуриха  2001      NaN  15400.0      15100.0      15700.0\n",
              "2  Белокуриха  2002      NaN  15400.0      15000.0      15700.0\n",
              "3  Белокуриха  2003      NaN  15300.0      15000.0      15700.0\n",
              "4  Белокуриха  2004      NaN  15300.0      14900.0      15600.0\n",
              "5  Белокуриха  2005      NaN  15200.0      14800.0      15500.0\n",
              "6  Белокуриха  2006      NaN  15100.0      14700.0      15400.0\n",
              "7  Белокуриха  2007      NaN  15000.0      14600.0      15300.0\n",
              "8  Белокуриха  2008  14781.0  14900.0      14600.0      15200.0\n",
              "9  Белокуриха  2009  14781.0  14800.0      14500.0      15100.0"
            ],
            "text/html": [
              "\n",
              "  <div id=\"df-147832ba-7317-4459-bf54-e6da12ee0741\" class=\"colab-df-container\">\n",
              "    <div>\n",
              "<style scoped>\n",
              "    .dataframe tbody tr th:only-of-type {\n",
              "        vertical-align: middle;\n",
              "    }\n",
              "\n",
              "    .dataframe tbody tr th {\n",
              "        vertical-align: top;\n",
              "    }\n",
              "\n",
              "    .dataframe thead th {\n",
              "        text-align: right;\n",
              "    }\n",
              "</style>\n",
              "<table border=\"1\" class=\"dataframe\">\n",
              "  <thead>\n",
              "    <tr style=\"text-align: right;\">\n",
              "      <th></th>\n",
              "      <th>town</th>\n",
              "      <th>year</th>\n",
              "      <th>fact</th>\n",
              "      <th>model</th>\n",
              "      <th>lower_limit</th>\n",
              "      <th>upper_limit</th>\n",
              "    </tr>\n",
              "  </thead>\n",
              "  <tbody>\n",
              "    <tr>\n",
              "      <th>0</th>\n",
              "      <td>Белокуриха</td>\n",
              "      <td>2000</td>\n",
              "      <td>NaN</td>\n",
              "      <td>15400.0</td>\n",
              "      <td>15100.0</td>\n",
              "      <td>15700.0</td>\n",
              "    </tr>\n",
              "    <tr>\n",
              "      <th>1</th>\n",
              "      <td>Белокуриха</td>\n",
              "      <td>2001</td>\n",
              "      <td>NaN</td>\n",
              "      <td>15400.0</td>\n",
              "      <td>15100.0</td>\n",
              "      <td>15700.0</td>\n",
              "    </tr>\n",
              "    <tr>\n",
              "      <th>2</th>\n",
              "      <td>Белокуриха</td>\n",
              "      <td>2002</td>\n",
              "      <td>NaN</td>\n",
              "      <td>15400.0</td>\n",
              "      <td>15000.0</td>\n",
              "      <td>15700.0</td>\n",
              "    </tr>\n",
              "    <tr>\n",
              "      <th>3</th>\n",
              "      <td>Белокуриха</td>\n",
              "      <td>2003</td>\n",
              "      <td>NaN</td>\n",
              "      <td>15300.0</td>\n",
              "      <td>15000.0</td>\n",
              "      <td>15700.0</td>\n",
              "    </tr>\n",
              "    <tr>\n",
              "      <th>4</th>\n",
              "      <td>Белокуриха</td>\n",
              "      <td>2004</td>\n",
              "      <td>NaN</td>\n",
              "      <td>15300.0</td>\n",
              "      <td>14900.0</td>\n",
              "      <td>15600.0</td>\n",
              "    </tr>\n",
              "    <tr>\n",
              "      <th>5</th>\n",
              "      <td>Белокуриха</td>\n",
              "      <td>2005</td>\n",
              "      <td>NaN</td>\n",
              "      <td>15200.0</td>\n",
              "      <td>14800.0</td>\n",
              "      <td>15500.0</td>\n",
              "    </tr>\n",
              "    <tr>\n",
              "      <th>6</th>\n",
              "      <td>Белокуриха</td>\n",
              "      <td>2006</td>\n",
              "      <td>NaN</td>\n",
              "      <td>15100.0</td>\n",
              "      <td>14700.0</td>\n",
              "      <td>15400.0</td>\n",
              "    </tr>\n",
              "    <tr>\n",
              "      <th>7</th>\n",
              "      <td>Белокуриха</td>\n",
              "      <td>2007</td>\n",
              "      <td>NaN</td>\n",
              "      <td>15000.0</td>\n",
              "      <td>14600.0</td>\n",
              "      <td>15300.0</td>\n",
              "    </tr>\n",
              "    <tr>\n",
              "      <th>8</th>\n",
              "      <td>Белокуриха</td>\n",
              "      <td>2008</td>\n",
              "      <td>14781.0</td>\n",
              "      <td>14900.0</td>\n",
              "      <td>14600.0</td>\n",
              "      <td>15200.0</td>\n",
              "    </tr>\n",
              "    <tr>\n",
              "      <th>9</th>\n",
              "      <td>Белокуриха</td>\n",
              "      <td>2009</td>\n",
              "      <td>14781.0</td>\n",
              "      <td>14800.0</td>\n",
              "      <td>14500.0</td>\n",
              "      <td>15100.0</td>\n",
              "    </tr>\n",
              "  </tbody>\n",
              "</table>\n",
              "</div>\n",
              "    <div class=\"colab-df-buttons\">\n",
              "\n",
              "  <div class=\"colab-df-container\">\n",
              "    <button class=\"colab-df-convert\" onclick=\"convertToInteractive('df-147832ba-7317-4459-bf54-e6da12ee0741')\"\n",
              "            title=\"Convert this dataframe to an interactive table.\"\n",
              "            style=\"display:none;\">\n",
              "\n",
              "  <svg xmlns=\"http://www.w3.org/2000/svg\" height=\"24px\" viewBox=\"0 -960 960 960\">\n",
              "    <path d=\"M120-120v-720h720v720H120Zm60-500h600v-160H180v160Zm220 220h160v-160H400v160Zm0 220h160v-160H400v160ZM180-400h160v-160H180v160Zm440 0h160v-160H620v160ZM180-180h160v-160H180v160Zm440 0h160v-160H620v160Z\"/>\n",
              "  </svg>\n",
              "    </button>\n",
              "\n",
              "  <style>\n",
              "    .colab-df-container {\n",
              "      display:flex;\n",
              "      gap: 12px;\n",
              "    }\n",
              "\n",
              "    .colab-df-convert {\n",
              "      background-color: #E8F0FE;\n",
              "      border: none;\n",
              "      border-radius: 50%;\n",
              "      cursor: pointer;\n",
              "      display: none;\n",
              "      fill: #1967D2;\n",
              "      height: 32px;\n",
              "      padding: 0 0 0 0;\n",
              "      width: 32px;\n",
              "    }\n",
              "\n",
              "    .colab-df-convert:hover {\n",
              "      background-color: #E2EBFA;\n",
              "      box-shadow: 0px 1px 2px rgba(60, 64, 67, 0.3), 0px 1px 3px 1px rgba(60, 64, 67, 0.15);\n",
              "      fill: #174EA6;\n",
              "    }\n",
              "\n",
              "    .colab-df-buttons div {\n",
              "      margin-bottom: 4px;\n",
              "    }\n",
              "\n",
              "    [theme=dark] .colab-df-convert {\n",
              "      background-color: #3B4455;\n",
              "      fill: #D2E3FC;\n",
              "    }\n",
              "\n",
              "    [theme=dark] .colab-df-convert:hover {\n",
              "      background-color: #434B5C;\n",
              "      box-shadow: 0px 1px 3px 1px rgba(0, 0, 0, 0.15);\n",
              "      filter: drop-shadow(0px 1px 2px rgba(0, 0, 0, 0.3));\n",
              "      fill: #FFFFFF;\n",
              "    }\n",
              "  </style>\n",
              "\n",
              "    <script>\n",
              "      const buttonEl =\n",
              "        document.querySelector('#df-147832ba-7317-4459-bf54-e6da12ee0741 button.colab-df-convert');\n",
              "      buttonEl.style.display =\n",
              "        google.colab.kernel.accessAllowed ? 'block' : 'none';\n",
              "\n",
              "      async function convertToInteractive(key) {\n",
              "        const element = document.querySelector('#df-147832ba-7317-4459-bf54-e6da12ee0741');\n",
              "        const dataTable =\n",
              "          await google.colab.kernel.invokeFunction('convertToInteractive',\n",
              "                                                    [key], {});\n",
              "        if (!dataTable) return;\n",
              "\n",
              "        const docLinkHtml = 'Like what you see? Visit the ' +\n",
              "          '<a target=\"_blank\" href=https://colab.research.google.com/notebooks/data_table.ipynb>data table notebook</a>'\n",
              "          + ' to learn more about interactive tables.';\n",
              "        element.innerHTML = '';\n",
              "        dataTable['output_type'] = 'display_data';\n",
              "        await google.colab.output.renderOutput(dataTable, element);\n",
              "        const docLink = document.createElement('div');\n",
              "        docLink.innerHTML = docLinkHtml;\n",
              "        element.appendChild(docLink);\n",
              "      }\n",
              "    </script>\n",
              "  </div>\n",
              "\n",
              "\n",
              "<div id=\"df-7f492e6f-ca6c-45e2-88bf-15746eecc7ac\">\n",
              "  <button class=\"colab-df-quickchart\" onclick=\"quickchart('df-7f492e6f-ca6c-45e2-88bf-15746eecc7ac')\"\n",
              "            title=\"Suggest charts\"\n",
              "            style=\"display:none;\">\n",
              "\n",
              "<svg xmlns=\"http://www.w3.org/2000/svg\" height=\"24px\"viewBox=\"0 0 24 24\"\n",
              "     width=\"24px\">\n",
              "    <g>\n",
              "        <path d=\"M19 3H5c-1.1 0-2 .9-2 2v14c0 1.1.9 2 2 2h14c1.1 0 2-.9 2-2V5c0-1.1-.9-2-2-2zM9 17H7v-7h2v7zm4 0h-2V7h2v10zm4 0h-2v-4h2v4z\"/>\n",
              "    </g>\n",
              "</svg>\n",
              "  </button>\n",
              "\n",
              "<style>\n",
              "  .colab-df-quickchart {\n",
              "      --bg-color: #E8F0FE;\n",
              "      --fill-color: #1967D2;\n",
              "      --hover-bg-color: #E2EBFA;\n",
              "      --hover-fill-color: #174EA6;\n",
              "      --disabled-fill-color: #AAA;\n",
              "      --disabled-bg-color: #DDD;\n",
              "  }\n",
              "\n",
              "  [theme=dark] .colab-df-quickchart {\n",
              "      --bg-color: #3B4455;\n",
              "      --fill-color: #D2E3FC;\n",
              "      --hover-bg-color: #434B5C;\n",
              "      --hover-fill-color: #FFFFFF;\n",
              "      --disabled-bg-color: #3B4455;\n",
              "      --disabled-fill-color: #666;\n",
              "  }\n",
              "\n",
              "  .colab-df-quickchart {\n",
              "    background-color: var(--bg-color);\n",
              "    border: none;\n",
              "    border-radius: 50%;\n",
              "    cursor: pointer;\n",
              "    display: none;\n",
              "    fill: var(--fill-color);\n",
              "    height: 32px;\n",
              "    padding: 0;\n",
              "    width: 32px;\n",
              "  }\n",
              "\n",
              "  .colab-df-quickchart:hover {\n",
              "    background-color: var(--hover-bg-color);\n",
              "    box-shadow: 0 1px 2px rgba(60, 64, 67, 0.3), 0 1px 3px 1px rgba(60, 64, 67, 0.15);\n",
              "    fill: var(--button-hover-fill-color);\n",
              "  }\n",
              "\n",
              "  .colab-df-quickchart-complete:disabled,\n",
              "  .colab-df-quickchart-complete:disabled:hover {\n",
              "    background-color: var(--disabled-bg-color);\n",
              "    fill: var(--disabled-fill-color);\n",
              "    box-shadow: none;\n",
              "  }\n",
              "\n",
              "  .colab-df-spinner {\n",
              "    border: 2px solid var(--fill-color);\n",
              "    border-color: transparent;\n",
              "    border-bottom-color: var(--fill-color);\n",
              "    animation:\n",
              "      spin 1s steps(1) infinite;\n",
              "  }\n",
              "\n",
              "  @keyframes spin {\n",
              "    0% {\n",
              "      border-color: transparent;\n",
              "      border-bottom-color: var(--fill-color);\n",
              "      border-left-color: var(--fill-color);\n",
              "    }\n",
              "    20% {\n",
              "      border-color: transparent;\n",
              "      border-left-color: var(--fill-color);\n",
              "      border-top-color: var(--fill-color);\n",
              "    }\n",
              "    30% {\n",
              "      border-color: transparent;\n",
              "      border-left-color: var(--fill-color);\n",
              "      border-top-color: var(--fill-color);\n",
              "      border-right-color: var(--fill-color);\n",
              "    }\n",
              "    40% {\n",
              "      border-color: transparent;\n",
              "      border-right-color: var(--fill-color);\n",
              "      border-top-color: var(--fill-color);\n",
              "    }\n",
              "    60% {\n",
              "      border-color: transparent;\n",
              "      border-right-color: var(--fill-color);\n",
              "    }\n",
              "    80% {\n",
              "      border-color: transparent;\n",
              "      border-right-color: var(--fill-color);\n",
              "      border-bottom-color: var(--fill-color);\n",
              "    }\n",
              "    90% {\n",
              "      border-color: transparent;\n",
              "      border-bottom-color: var(--fill-color);\n",
              "    }\n",
              "  }\n",
              "</style>\n",
              "\n",
              "  <script>\n",
              "    async function quickchart(key) {\n",
              "      const quickchartButtonEl =\n",
              "        document.querySelector('#' + key + ' button');\n",
              "      quickchartButtonEl.disabled = true;  // To prevent multiple clicks.\n",
              "      quickchartButtonEl.classList.add('colab-df-spinner');\n",
              "      try {\n",
              "        const charts = await google.colab.kernel.invokeFunction(\n",
              "            'suggestCharts', [key], {});\n",
              "      } catch (error) {\n",
              "        console.error('Error during call to suggestCharts:', error);\n",
              "      }\n",
              "      quickchartButtonEl.classList.remove('colab-df-spinner');\n",
              "      quickchartButtonEl.classList.add('colab-df-quickchart-complete');\n",
              "    }\n",
              "    (() => {\n",
              "      let quickchartButtonEl =\n",
              "        document.querySelector('#df-7f492e6f-ca6c-45e2-88bf-15746eecc7ac button');\n",
              "      quickchartButtonEl.style.display =\n",
              "        google.colab.kernel.accessAllowed ? 'block' : 'none';\n",
              "    })();\n",
              "  </script>\n",
              "</div>\n",
              "    </div>\n",
              "  </div>\n"
            ],
            "application/vnd.google.colaboratory.intrinsic+json": {
              "type": "dataframe",
              "variable_name": "df",
              "summary": "{\n  \"name\": \"df\",\n  \"rows\": 30250,\n  \"fields\": [\n    {\n      \"column\": \"town\",\n      \"properties\": {\n        \"dtype\": \"category\",\n        \"num_unique_values\": 248,\n        \"samples\": [\n          \"\\u041d\\u043e\\u0432\\u043e\\u0430\\u043d\\u043d\\u0438\\u043d\\u0441\\u043a\\u0438\\u0439\",\n          \"\\u0411\\u043e\\u043b\\u044c\\u0448\\u043e\\u0439 \\u041a\\u0430\\u043c\\u0435\\u043d\\u044c\",\n          \"\\u041f\\u043e\\u043b\\u0435\\u0432\\u0441\\u043a\\u043e\\u0439\"\n        ],\n        \"semantic_type\": \"\",\n        \"description\": \"\"\n      }\n    },\n    {\n      \"column\": \"year\",\n      \"properties\": {\n        \"dtype\": \"number\",\n        \"std\": 34,\n        \"min\": 2000,\n        \"max\": 2120,\n        \"num_unique_values\": 121,\n        \"samples\": [\n          2044,\n          2047,\n          2004\n        ],\n        \"semantic_type\": \"\",\n        \"description\": \"\"\n      }\n    },\n    {\n      \"column\": \"fact\",\n      \"properties\": {\n        \"dtype\": \"number\",\n        \"std\": 767593.0628529668,\n        \"min\": 2370.0,\n        \"max\": 12678079.0,\n        \"num_unique_values\": 2408,\n        \"samples\": [\n          54877.0,\n          32940.0,\n          89570.0\n        ],\n        \"semantic_type\": \"\",\n        \"description\": \"\"\n      }\n    },\n    {\n      \"column\": \"model\",\n      \"properties\": {\n        \"dtype\": \"number\",\n        \"std\": 886619.250284783,\n        \"min\": 0.0,\n        \"max\": 15419400.0,\n        \"num_unique_values\": 4332,\n        \"samples\": [\n          192600.0,\n          4600.0,\n          600300.0\n        ],\n        \"semantic_type\": \"\",\n        \"description\": \"\"\n      }\n    },\n    {\n      \"column\": \"lower_limit\",\n      \"properties\": {\n        \"dtype\": \"number\",\n        \"std\": 881804.440573618,\n        \"min\": 0.0,\n        \"max\": 15304200.0,\n        \"num_unique_values\": 4340,\n        \"samples\": [\n          550700.0,\n          72900.0,\n          434900.0\n        ],\n        \"semantic_type\": \"\",\n        \"description\": \"\"\n      }\n    },\n    {\n      \"column\": \"upper_limit\",\n      \"properties\": {\n        \"dtype\": \"number\",\n        \"std\": 891467.7798182877,\n        \"min\": 400.0,\n        \"max\": 15535500.0,\n        \"num_unique_values\": 4373,\n        \"samples\": [\n          169300.0,\n          14900.0,\n          48400.0\n        ],\n        \"semantic_type\": \"\",\n        \"description\": \"\"\n      }\n    }\n  ]\n}"
            }
          },
          "metadata": {},
          "execution_count": 11
        }
      ]
    },
    {
      "cell_type": "code",
      "source": [
        "# Приведем в соответствие количество населения типу int64\n",
        "df['lower_limit'] = df['lower_limit'].astype('int')\n",
        "df['upper_limit'] = df['upper_limit'].astype('int')\n",
        "df['model'] = df['model'].astype('int')\n",
        "# Со столбцом fact чуть сложнее, но придется заменить NaN на 0!\n",
        "df['fact'] = df['fact'].fillna(0).astype('int')"
      ],
      "metadata": {
        "id": "0-o33w3y5GO4"
      },
      "execution_count": 12,
      "outputs": []
    },
    {
      "cell_type": "markdown",
      "source": [
        "Окончательно таблица данных перед исследованием будет выглядеть так:"
      ],
      "metadata": {
        "id": "3ygAuqaDHzYa"
      }
    },
    {
      "cell_type": "code",
      "source": [
        "df.head(10)"
      ],
      "metadata": {
        "id": "5WhhObVkLrOG",
        "colab": {
          "base_uri": "https://localhost:8080/",
          "height": 363
        },
        "outputId": "929a0b8f-02f8-4d97-a701-b2ad00615b48"
      },
      "execution_count": 13,
      "outputs": [
        {
          "output_type": "execute_result",
          "data": {
            "text/plain": [
              "         town  year   fact  model  lower_limit  upper_limit\n",
              "0  Белокуриха  2000      0  15400        15100        15700\n",
              "1  Белокуриха  2001      0  15400        15100        15700\n",
              "2  Белокуриха  2002      0  15400        15000        15700\n",
              "3  Белокуриха  2003      0  15300        15000        15700\n",
              "4  Белокуриха  2004      0  15300        14900        15600\n",
              "5  Белокуриха  2005      0  15200        14800        15500\n",
              "6  Белокуриха  2006      0  15100        14700        15400\n",
              "7  Белокуриха  2007      0  15000        14600        15300\n",
              "8  Белокуриха  2008  14781  14900        14600        15200\n",
              "9  Белокуриха  2009  14781  14800        14500        15100"
            ],
            "text/html": [
              "\n",
              "  <div id=\"df-691decf0-bf9c-47d5-a823-8ffa73e50ebb\" class=\"colab-df-container\">\n",
              "    <div>\n",
              "<style scoped>\n",
              "    .dataframe tbody tr th:only-of-type {\n",
              "        vertical-align: middle;\n",
              "    }\n",
              "\n",
              "    .dataframe tbody tr th {\n",
              "        vertical-align: top;\n",
              "    }\n",
              "\n",
              "    .dataframe thead th {\n",
              "        text-align: right;\n",
              "    }\n",
              "</style>\n",
              "<table border=\"1\" class=\"dataframe\">\n",
              "  <thead>\n",
              "    <tr style=\"text-align: right;\">\n",
              "      <th></th>\n",
              "      <th>town</th>\n",
              "      <th>year</th>\n",
              "      <th>fact</th>\n",
              "      <th>model</th>\n",
              "      <th>lower_limit</th>\n",
              "      <th>upper_limit</th>\n",
              "    </tr>\n",
              "  </thead>\n",
              "  <tbody>\n",
              "    <tr>\n",
              "      <th>0</th>\n",
              "      <td>Белокуриха</td>\n",
              "      <td>2000</td>\n",
              "      <td>0</td>\n",
              "      <td>15400</td>\n",
              "      <td>15100</td>\n",
              "      <td>15700</td>\n",
              "    </tr>\n",
              "    <tr>\n",
              "      <th>1</th>\n",
              "      <td>Белокуриха</td>\n",
              "      <td>2001</td>\n",
              "      <td>0</td>\n",
              "      <td>15400</td>\n",
              "      <td>15100</td>\n",
              "      <td>15700</td>\n",
              "    </tr>\n",
              "    <tr>\n",
              "      <th>2</th>\n",
              "      <td>Белокуриха</td>\n",
              "      <td>2002</td>\n",
              "      <td>0</td>\n",
              "      <td>15400</td>\n",
              "      <td>15000</td>\n",
              "      <td>15700</td>\n",
              "    </tr>\n",
              "    <tr>\n",
              "      <th>3</th>\n",
              "      <td>Белокуриха</td>\n",
              "      <td>2003</td>\n",
              "      <td>0</td>\n",
              "      <td>15300</td>\n",
              "      <td>15000</td>\n",
              "      <td>15700</td>\n",
              "    </tr>\n",
              "    <tr>\n",
              "      <th>4</th>\n",
              "      <td>Белокуриха</td>\n",
              "      <td>2004</td>\n",
              "      <td>0</td>\n",
              "      <td>15300</td>\n",
              "      <td>14900</td>\n",
              "      <td>15600</td>\n",
              "    </tr>\n",
              "    <tr>\n",
              "      <th>5</th>\n",
              "      <td>Белокуриха</td>\n",
              "      <td>2005</td>\n",
              "      <td>0</td>\n",
              "      <td>15200</td>\n",
              "      <td>14800</td>\n",
              "      <td>15500</td>\n",
              "    </tr>\n",
              "    <tr>\n",
              "      <th>6</th>\n",
              "      <td>Белокуриха</td>\n",
              "      <td>2006</td>\n",
              "      <td>0</td>\n",
              "      <td>15100</td>\n",
              "      <td>14700</td>\n",
              "      <td>15400</td>\n",
              "    </tr>\n",
              "    <tr>\n",
              "      <th>7</th>\n",
              "      <td>Белокуриха</td>\n",
              "      <td>2007</td>\n",
              "      <td>0</td>\n",
              "      <td>15000</td>\n",
              "      <td>14600</td>\n",
              "      <td>15300</td>\n",
              "    </tr>\n",
              "    <tr>\n",
              "      <th>8</th>\n",
              "      <td>Белокуриха</td>\n",
              "      <td>2008</td>\n",
              "      <td>14781</td>\n",
              "      <td>14900</td>\n",
              "      <td>14600</td>\n",
              "      <td>15200</td>\n",
              "    </tr>\n",
              "    <tr>\n",
              "      <th>9</th>\n",
              "      <td>Белокуриха</td>\n",
              "      <td>2009</td>\n",
              "      <td>14781</td>\n",
              "      <td>14800</td>\n",
              "      <td>14500</td>\n",
              "      <td>15100</td>\n",
              "    </tr>\n",
              "  </tbody>\n",
              "</table>\n",
              "</div>\n",
              "    <div class=\"colab-df-buttons\">\n",
              "\n",
              "  <div class=\"colab-df-container\">\n",
              "    <button class=\"colab-df-convert\" onclick=\"convertToInteractive('df-691decf0-bf9c-47d5-a823-8ffa73e50ebb')\"\n",
              "            title=\"Convert this dataframe to an interactive table.\"\n",
              "            style=\"display:none;\">\n",
              "\n",
              "  <svg xmlns=\"http://www.w3.org/2000/svg\" height=\"24px\" viewBox=\"0 -960 960 960\">\n",
              "    <path d=\"M120-120v-720h720v720H120Zm60-500h600v-160H180v160Zm220 220h160v-160H400v160Zm0 220h160v-160H400v160ZM180-400h160v-160H180v160Zm440 0h160v-160H620v160ZM180-180h160v-160H180v160Zm440 0h160v-160H620v160Z\"/>\n",
              "  </svg>\n",
              "    </button>\n",
              "\n",
              "  <style>\n",
              "    .colab-df-container {\n",
              "      display:flex;\n",
              "      gap: 12px;\n",
              "    }\n",
              "\n",
              "    .colab-df-convert {\n",
              "      background-color: #E8F0FE;\n",
              "      border: none;\n",
              "      border-radius: 50%;\n",
              "      cursor: pointer;\n",
              "      display: none;\n",
              "      fill: #1967D2;\n",
              "      height: 32px;\n",
              "      padding: 0 0 0 0;\n",
              "      width: 32px;\n",
              "    }\n",
              "\n",
              "    .colab-df-convert:hover {\n",
              "      background-color: #E2EBFA;\n",
              "      box-shadow: 0px 1px 2px rgba(60, 64, 67, 0.3), 0px 1px 3px 1px rgba(60, 64, 67, 0.15);\n",
              "      fill: #174EA6;\n",
              "    }\n",
              "\n",
              "    .colab-df-buttons div {\n",
              "      margin-bottom: 4px;\n",
              "    }\n",
              "\n",
              "    [theme=dark] .colab-df-convert {\n",
              "      background-color: #3B4455;\n",
              "      fill: #D2E3FC;\n",
              "    }\n",
              "\n",
              "    [theme=dark] .colab-df-convert:hover {\n",
              "      background-color: #434B5C;\n",
              "      box-shadow: 0px 1px 3px 1px rgba(0, 0, 0, 0.15);\n",
              "      filter: drop-shadow(0px 1px 2px rgba(0, 0, 0, 0.3));\n",
              "      fill: #FFFFFF;\n",
              "    }\n",
              "  </style>\n",
              "\n",
              "    <script>\n",
              "      const buttonEl =\n",
              "        document.querySelector('#df-691decf0-bf9c-47d5-a823-8ffa73e50ebb button.colab-df-convert');\n",
              "      buttonEl.style.display =\n",
              "        google.colab.kernel.accessAllowed ? 'block' : 'none';\n",
              "\n",
              "      async function convertToInteractive(key) {\n",
              "        const element = document.querySelector('#df-691decf0-bf9c-47d5-a823-8ffa73e50ebb');\n",
              "        const dataTable =\n",
              "          await google.colab.kernel.invokeFunction('convertToInteractive',\n",
              "                                                    [key], {});\n",
              "        if (!dataTable) return;\n",
              "\n",
              "        const docLinkHtml = 'Like what you see? Visit the ' +\n",
              "          '<a target=\"_blank\" href=https://colab.research.google.com/notebooks/data_table.ipynb>data table notebook</a>'\n",
              "          + ' to learn more about interactive tables.';\n",
              "        element.innerHTML = '';\n",
              "        dataTable['output_type'] = 'display_data';\n",
              "        await google.colab.output.renderOutput(dataTable, element);\n",
              "        const docLink = document.createElement('div');\n",
              "        docLink.innerHTML = docLinkHtml;\n",
              "        element.appendChild(docLink);\n",
              "      }\n",
              "    </script>\n",
              "  </div>\n",
              "\n",
              "\n",
              "<div id=\"df-b246c432-a39b-4c66-bfa8-ca416bf17db7\">\n",
              "  <button class=\"colab-df-quickchart\" onclick=\"quickchart('df-b246c432-a39b-4c66-bfa8-ca416bf17db7')\"\n",
              "            title=\"Suggest charts\"\n",
              "            style=\"display:none;\">\n",
              "\n",
              "<svg xmlns=\"http://www.w3.org/2000/svg\" height=\"24px\"viewBox=\"0 0 24 24\"\n",
              "     width=\"24px\">\n",
              "    <g>\n",
              "        <path d=\"M19 3H5c-1.1 0-2 .9-2 2v14c0 1.1.9 2 2 2h14c1.1 0 2-.9 2-2V5c0-1.1-.9-2-2-2zM9 17H7v-7h2v7zm4 0h-2V7h2v10zm4 0h-2v-4h2v4z\"/>\n",
              "    </g>\n",
              "</svg>\n",
              "  </button>\n",
              "\n",
              "<style>\n",
              "  .colab-df-quickchart {\n",
              "      --bg-color: #E8F0FE;\n",
              "      --fill-color: #1967D2;\n",
              "      --hover-bg-color: #E2EBFA;\n",
              "      --hover-fill-color: #174EA6;\n",
              "      --disabled-fill-color: #AAA;\n",
              "      --disabled-bg-color: #DDD;\n",
              "  }\n",
              "\n",
              "  [theme=dark] .colab-df-quickchart {\n",
              "      --bg-color: #3B4455;\n",
              "      --fill-color: #D2E3FC;\n",
              "      --hover-bg-color: #434B5C;\n",
              "      --hover-fill-color: #FFFFFF;\n",
              "      --disabled-bg-color: #3B4455;\n",
              "      --disabled-fill-color: #666;\n",
              "  }\n",
              "\n",
              "  .colab-df-quickchart {\n",
              "    background-color: var(--bg-color);\n",
              "    border: none;\n",
              "    border-radius: 50%;\n",
              "    cursor: pointer;\n",
              "    display: none;\n",
              "    fill: var(--fill-color);\n",
              "    height: 32px;\n",
              "    padding: 0;\n",
              "    width: 32px;\n",
              "  }\n",
              "\n",
              "  .colab-df-quickchart:hover {\n",
              "    background-color: var(--hover-bg-color);\n",
              "    box-shadow: 0 1px 2px rgba(60, 64, 67, 0.3), 0 1px 3px 1px rgba(60, 64, 67, 0.15);\n",
              "    fill: var(--button-hover-fill-color);\n",
              "  }\n",
              "\n",
              "  .colab-df-quickchart-complete:disabled,\n",
              "  .colab-df-quickchart-complete:disabled:hover {\n",
              "    background-color: var(--disabled-bg-color);\n",
              "    fill: var(--disabled-fill-color);\n",
              "    box-shadow: none;\n",
              "  }\n",
              "\n",
              "  .colab-df-spinner {\n",
              "    border: 2px solid var(--fill-color);\n",
              "    border-color: transparent;\n",
              "    border-bottom-color: var(--fill-color);\n",
              "    animation:\n",
              "      spin 1s steps(1) infinite;\n",
              "  }\n",
              "\n",
              "  @keyframes spin {\n",
              "    0% {\n",
              "      border-color: transparent;\n",
              "      border-bottom-color: var(--fill-color);\n",
              "      border-left-color: var(--fill-color);\n",
              "    }\n",
              "    20% {\n",
              "      border-color: transparent;\n",
              "      border-left-color: var(--fill-color);\n",
              "      border-top-color: var(--fill-color);\n",
              "    }\n",
              "    30% {\n",
              "      border-color: transparent;\n",
              "      border-left-color: var(--fill-color);\n",
              "      border-top-color: var(--fill-color);\n",
              "      border-right-color: var(--fill-color);\n",
              "    }\n",
              "    40% {\n",
              "      border-color: transparent;\n",
              "      border-right-color: var(--fill-color);\n",
              "      border-top-color: var(--fill-color);\n",
              "    }\n",
              "    60% {\n",
              "      border-color: transparent;\n",
              "      border-right-color: var(--fill-color);\n",
              "    }\n",
              "    80% {\n",
              "      border-color: transparent;\n",
              "      border-right-color: var(--fill-color);\n",
              "      border-bottom-color: var(--fill-color);\n",
              "    }\n",
              "    90% {\n",
              "      border-color: transparent;\n",
              "      border-bottom-color: var(--fill-color);\n",
              "    }\n",
              "  }\n",
              "</style>\n",
              "\n",
              "  <script>\n",
              "    async function quickchart(key) {\n",
              "      const quickchartButtonEl =\n",
              "        document.querySelector('#' + key + ' button');\n",
              "      quickchartButtonEl.disabled = true;  // To prevent multiple clicks.\n",
              "      quickchartButtonEl.classList.add('colab-df-spinner');\n",
              "      try {\n",
              "        const charts = await google.colab.kernel.invokeFunction(\n",
              "            'suggestCharts', [key], {});\n",
              "      } catch (error) {\n",
              "        console.error('Error during call to suggestCharts:', error);\n",
              "      }\n",
              "      quickchartButtonEl.classList.remove('colab-df-spinner');\n",
              "      quickchartButtonEl.classList.add('colab-df-quickchart-complete');\n",
              "    }\n",
              "    (() => {\n",
              "      let quickchartButtonEl =\n",
              "        document.querySelector('#df-b246c432-a39b-4c66-bfa8-ca416bf17db7 button');\n",
              "      quickchartButtonEl.style.display =\n",
              "        google.colab.kernel.accessAllowed ? 'block' : 'none';\n",
              "    })();\n",
              "  </script>\n",
              "</div>\n",
              "    </div>\n",
              "  </div>\n"
            ],
            "application/vnd.google.colaboratory.intrinsic+json": {
              "type": "dataframe",
              "variable_name": "df",
              "summary": "{\n  \"name\": \"df\",\n  \"rows\": 30250,\n  \"fields\": [\n    {\n      \"column\": \"town\",\n      \"properties\": {\n        \"dtype\": \"category\",\n        \"num_unique_values\": 248,\n        \"samples\": [\n          \"\\u041d\\u043e\\u0432\\u043e\\u0430\\u043d\\u043d\\u0438\\u043d\\u0441\\u043a\\u0438\\u0439\",\n          \"\\u0411\\u043e\\u043b\\u044c\\u0448\\u043e\\u0439 \\u041a\\u0430\\u043c\\u0435\\u043d\\u044c\",\n          \"\\u041f\\u043e\\u043b\\u0435\\u0432\\u0441\\u043a\\u043e\\u0439\"\n        ],\n        \"semantic_type\": \"\",\n        \"description\": \"\"\n      }\n    },\n    {\n      \"column\": \"year\",\n      \"properties\": {\n        \"dtype\": \"number\",\n        \"std\": 34,\n        \"min\": 2000,\n        \"max\": 2120,\n        \"num_unique_values\": 121,\n        \"samples\": [\n          2044,\n          2047,\n          2004\n        ],\n        \"semantic_type\": \"\",\n        \"description\": \"\"\n      }\n    },\n    {\n      \"column\": \"fact\",\n      \"properties\": {\n        \"dtype\": \"number\",\n        \"std\": 254627,\n        \"min\": 0,\n        \"max\": 12678079,\n        \"num_unique_values\": 2409,\n        \"samples\": [\n          605332,\n          100970,\n          24935\n        ],\n        \"semantic_type\": \"\",\n        \"description\": \"\"\n      }\n    },\n    {\n      \"column\": \"model\",\n      \"properties\": {\n        \"dtype\": \"number\",\n        \"std\": 886619,\n        \"min\": 0,\n        \"max\": 15419400,\n        \"num_unique_values\": 4332,\n        \"samples\": [\n          192600,\n          4600,\n          600300\n        ],\n        \"semantic_type\": \"\",\n        \"description\": \"\"\n      }\n    },\n    {\n      \"column\": \"lower_limit\",\n      \"properties\": {\n        \"dtype\": \"number\",\n        \"std\": 881804,\n        \"min\": 0,\n        \"max\": 15304200,\n        \"num_unique_values\": 4340,\n        \"samples\": [\n          550700,\n          72900,\n          434900\n        ],\n        \"semantic_type\": \"\",\n        \"description\": \"\"\n      }\n    },\n    {\n      \"column\": \"upper_limit\",\n      \"properties\": {\n        \"dtype\": \"number\",\n        \"std\": 891467,\n        \"min\": 400,\n        \"max\": 15535500,\n        \"num_unique_values\": 4373,\n        \"samples\": [\n          169300,\n          14900,\n          48400\n        ],\n        \"semantic_type\": \"\",\n        \"description\": \"\"\n      }\n    }\n  ]\n}"
            }
          },
          "metadata": {},
          "execution_count": 13
        }
      ]
    },
    {
      "cell_type": "code",
      "source": [
        "#df.info()\n",
        "df[df['fact'] == 0]['fact'].count()"
      ],
      "metadata": {
        "colab": {
          "base_uri": "https://localhost:8080/"
        },
        "id": "3S6F16ZUH4ZC",
        "outputId": "82a42a4d-2480-4d92-f306-2f3db5cdbe78"
      },
      "execution_count": 14,
      "outputs": [
        {
          "output_type": "execute_result",
          "data": {
            "text/plain": [
              "27000"
            ]
          },
          "metadata": {},
          "execution_count": 14
        }
      ]
    },
    {
      "cell_type": "markdown",
      "source": [
        "На всякий случай проверил нули в столбце **fact**. Их ровно 27000 шт, как и замененных *NaN*.\n",
        "\n",
        "## Исследование данных.\n",
        "\n",
        "Рассмотрим сколько и каких городов рассматривалось в исследовании:\n"
      ],
      "metadata": {
        "id": "DxyzSpfCKGT2"
      }
    },
    {
      "cell_type": "code",
      "source": [
        "print ('В исследовании рассматривалось - ', df['town'].nunique(),' городов.')\n",
        "print('Вот их названия:', df['town'].unique())"
      ],
      "metadata": {
        "colab": {
          "base_uri": "https://localhost:8080/"
        },
        "id": "51_W-Ty3MbGi",
        "outputId": "d808fe10-6b4d-49ec-bc87-bc2561f4f0c7"
      },
      "execution_count": 16,
      "outputs": [
        {
          "output_type": "stream",
          "name": "stdout",
          "text": [
            "В исследовании рассматривалось -  248  городов.\n",
            "Вот их названия: ['Белокуриха' 'Новоалтайск' 'Краснодар' 'Анапа' 'Бородино' 'Шарыпово'\n",
            " 'Большой Камень' 'Партизанск' 'Ессентуки' 'Лермонтов' 'Невинномысск'\n",
            " 'Николаевск-на-Амуре' 'Завитинск' 'Белогорск' 'Райчихинск' 'Шимановск'\n",
            " 'Сольвычегодск' 'Архангельск' 'Новодвинск' 'Бирюч' 'Мглин' 'Почеп'\n",
            " 'Клинцы' 'Карабаново' 'Гороховец' 'Курлово' 'Киржач' 'Петушки'\n",
            " 'Костерево' 'Покров' 'Юрьев-Польский' 'Гусь-Хрустальный' 'Калач-на-Дону'\n",
            " 'Новоаннинский' 'Серафимович' 'Краснослободск' 'Камышин' 'Михайловка'\n",
            " 'Урюпинск' 'Фролово' 'Бабаево' 'Красавино' 'Вытегра' 'Никольск' 'Сокол'\n",
            " 'Тотьма' 'Бобров' 'Бутурлиновка' 'Калач' 'Лиски' 'Новохопёрск' 'Павловск'\n",
            " 'Семилуки' 'Ветлуга' 'Городец' 'Володарск' 'Кстово' 'Сергач' 'Арзамас'\n",
            " 'Дзержинск' 'Кулебаки' 'Навашино' 'Гаврилов Посад' 'Заволжск' 'Наволоки'\n",
            " 'Плес' 'Приволжск' 'Пучеж' 'Фурманов' 'Иваново' 'Кохма' ' Шуя' 'Бодайбо'\n",
            " 'Вихоревка' 'Алзамай' 'Ангарск' 'Саянск' 'Усть-Илимск' 'Магас' 'Назрань'\n",
            " 'Карабулак' 'Сунжа' 'Гусев' 'Зеленоградск' 'Ладушкин' 'Неман' 'Светлый'\n",
            " 'Советск' 'Кимры' 'Удомля' 'Козельск' 'Медынь' 'Мещовск' 'Юхнов'\n",
            " 'Елизово' 'Петропавловск-Камчатский' 'Ленинск-Кузнецкий' 'Полысаево'\n",
            " 'Котельнич' 'Слободской' ' Буй' 'Волгореченск' 'Старый Крым' 'Алушта'\n",
            " 'Джанкой' 'Евпатория' 'Керчь' 'Ялта' 'Кинель' 'Новокуйбышевск' 'Отрадный'\n",
            " 'Сызрань' 'Тольятти' 'Катайск' 'Куртамыш' 'Дмитриев' 'Рыльск'\n",
            " 'Железногорск' 'Щигры' 'Бокситогорск' 'Волхов' 'Новая Ладога'\n",
            " 'Всеволожск' 'Сертолово' 'Светогорск' 'Кировск' 'Шлиссельбург' 'Отрадное'\n",
            " 'Грязи' 'Елец' 'Москва' 'Егорьевск' 'Кашира' 'Коломна' 'Пущино' 'Реутов'\n",
            " 'Химки' 'Электросталь' 'Электрогорск' 'Кола' 'Великий Новгород'\n",
            " 'Барабинск' 'Карасук' 'Чулым' 'Называевск' 'Тара' 'Тюкалинск' 'Оренбург'\n",
            " 'Бузулук' 'Медногорск' 'Новотроицк' 'Спасск' 'Сурск' 'Пенза' 'Губаха'\n",
            " 'Лысьва' 'Соликамск' 'Волгодонск' 'Каменск-Шахтинский' 'Новочеркасск'\n",
            " 'Новошахтинск' 'Таганрог' 'Калининск' 'Красный Кут' 'Ртищево'\n",
            " 'Александровск-Сахалинский' 'Долинск' 'Корсаков' ' Оха' 'Холмск'\n",
            " 'Нижние Серги' ' Реж' 'Сысерть' 'Туринск' 'Березовский' 'Верхний Тагил'\n",
            " 'Ирбит' 'Каменск-Уральский' 'Камышлов' 'Кировград' 'Красноуфимск'\n",
            " 'Нижняя Салда' 'Полевской' 'Среднеуральск' 'Десногорск' 'Жердевка'\n",
            " 'Уварово' 'Томск' 'Болохово' 'Липки' 'Узловая' 'Щекино' 'Ясногорск'\n",
            " 'Алексин' 'Ефремов' 'Ишим' 'Тобольск' 'Ялуторовск' 'Лянтор' 'Нягань'\n",
            " 'Югорск' 'Губкинский' 'Муравленко' 'Барыш' 'Ульяновск' 'Магнитогорск'\n",
            " 'Миасс' 'Усть-Катав' 'Краснокаменск' 'Могоча' 'Анадырь' 'Ярославль'\n",
            " 'Переславль-Залесский' ' Уфа' 'Агидель' 'Нефтекамск' 'Октябрьский'\n",
            " 'Буйнакск' 'Каспийск' 'Кизилюрт' 'Городовиковск' 'Сортавала' 'Кемь'\n",
            " 'Лахденпохья' 'Медвежьегорск' 'Воркута' 'Вуктыл' 'Инта' 'Волжск'\n",
            " 'Саранск' 'Дигора' 'Усть-Джегута' 'Черкесск' 'Карачаевск'\n",
            " 'Набережные Челны' 'Кызыл' 'Камбарка' 'Глазов' 'Сарапул' 'Абаза'\n",
            " 'Саяногорск' 'Гудермес' 'Чебоксары' 'Алатырь' 'Новочебоксарск' 'Мирный'\n",
            " 'Якутск' 'Облучье']\n"
          ]
        }
      ]
    },
    {
      "cell_type": "markdown",
      "source": [
        "Интересно какие года были взяты в качестве реального исследования количества населения, и какие года прогнозировались."
      ],
      "metadata": {
        "id": "u5AMjMOtQgwA"
      }
    },
    {
      "cell_type": "code",
      "source": [
        "print ('В дата-сете рассмотрены прогнозы количества жителей городов с ', df.year.unique().min(), ' по ', df.year.unique().max(), 'годы. В период с ', df[df['fact']!=0]['year'].unique().min(), ' по ', df[df['fact']!=0]['year'].unique().max(),' годы есть данные о реальном количестве жителей в этих городах.')"
      ],
      "metadata": {
        "colab": {
          "base_uri": "https://localhost:8080/"
        },
        "id": "-qeZ4IGmi7kr",
        "outputId": "5d9a8107-b2be-419b-c8c7-dd7c1984d379"
      },
      "execution_count": 17,
      "outputs": [
        {
          "output_type": "stream",
          "name": "stdout",
          "text": [
            "В дата-сете рассмотрены прогнозы количества жителей городов с  2000  по  2120 годы. В период с  2008  по  2020  годы есть данные о реальном количестве жителей в этих городах.\n"
          ]
        }
      ]
    },
    {
      "cell_type": "code",
      "source": [
        "df.year.unique()\n",
        "#df[df['fact']==0]['year'].unique() # уникальные годы наблюдения и прогнзирования"
      ],
      "metadata": {
        "colab": {
          "base_uri": "https://localhost:8080/"
        },
        "id": "dIsV7kY6Ns-D",
        "outputId": "c29957ad-561a-4254-a45f-360b285260b6"
      },
      "execution_count": 18,
      "outputs": [
        {
          "output_type": "execute_result",
          "data": {
            "text/plain": [
              "array([2000, 2001, 2002, 2003, 2004, 2005, 2006, 2007, 2008, 2009, 2010,\n",
              "       2011, 2012, 2013, 2014, 2015, 2016, 2017, 2018, 2019, 2020, 2021,\n",
              "       2022, 2023, 2024, 2025, 2026, 2027, 2028, 2029, 2030, 2031, 2032,\n",
              "       2033, 2034, 2035, 2036, 2037, 2038, 2039, 2040, 2041, 2042, 2043,\n",
              "       2044, 2045, 2046, 2047, 2048, 2049, 2050, 2051, 2052, 2053, 2054,\n",
              "       2055, 2056, 2057, 2058, 2059, 2060, 2061, 2062, 2063, 2064, 2065,\n",
              "       2066, 2067, 2068, 2069, 2070, 2071, 2072, 2073, 2074, 2075, 2076,\n",
              "       2077, 2078, 2079, 2080, 2081, 2082, 2083, 2084, 2085, 2086, 2087,\n",
              "       2088, 2089, 2090, 2091, 2092, 2093, 2094, 2095, 2096, 2097, 2098,\n",
              "       2099, 2100, 2101, 2102, 2103, 2104, 2105, 2106, 2107, 2108, 2109,\n",
              "       2110, 2111, 2112, 2113, 2114, 2115, 2116, 2117, 2118, 2119, 2120])"
            ]
          },
          "metadata": {},
          "execution_count": 18
        }
      ]
    },
    {
      "cell_type": "code",
      "source": [
        "df[df['fact']==0]['year'].unique() # уникальные годы прогнзирования"
      ],
      "metadata": {
        "colab": {
          "base_uri": "https://localhost:8080/"
        },
        "id": "IPDzqrxzcRtB",
        "outputId": "21e50510-48d4-411d-dafe-5ae1b126da5d"
      },
      "execution_count": 19,
      "outputs": [
        {
          "output_type": "execute_result",
          "data": {
            "text/plain": [
              "array([2000, 2001, 2002, 2003, 2004, 2005, 2006, 2007, 2021, 2022, 2023,\n",
              "       2024, 2025, 2026, 2027, 2028, 2029, 2030, 2031, 2032, 2033, 2034,\n",
              "       2035, 2036, 2037, 2038, 2039, 2040, 2041, 2042, 2043, 2044, 2045,\n",
              "       2046, 2047, 2048, 2049, 2050, 2051, 2052, 2053, 2054, 2055, 2056,\n",
              "       2057, 2058, 2059, 2060, 2061, 2062, 2063, 2064, 2065, 2066, 2067,\n",
              "       2068, 2069, 2070, 2071, 2072, 2073, 2074, 2075, 2076, 2077, 2078,\n",
              "       2079, 2080, 2081, 2082, 2083, 2084, 2085, 2086, 2087, 2088, 2089,\n",
              "       2090, 2091, 2092, 2093, 2094, 2095, 2096, 2097, 2098, 2099, 2100,\n",
              "       2101, 2102, 2103, 2104, 2105, 2106, 2107, 2108, 2109, 2110, 2111,\n",
              "       2112, 2113, 2114, 2115, 2116, 2117, 2118, 2119, 2120])"
            ]
          },
          "metadata": {},
          "execution_count": 19
        }
      ]
    },
    {
      "cell_type": "code",
      "source": [
        "df[df['fact']!=0]['year'].unique() # уникальные годы наблюдения Когда есть реальное количество жителей городов."
      ],
      "metadata": {
        "colab": {
          "base_uri": "https://localhost:8080/"
        },
        "id": "X0wRR2gucU4h",
        "outputId": "03573059-9950-4223-cc02-229cfbfe714d"
      },
      "execution_count": 20,
      "outputs": [
        {
          "output_type": "execute_result",
          "data": {
            "text/plain": [
              "array([2008, 2009, 2010, 2011, 2012, 2013, 2014, 2015, 2016, 2017, 2018,\n",
              "       2019, 2020])"
            ]
          },
          "metadata": {},
          "execution_count": 20
        }
      ]
    },
    {
      "cell_type": "markdown",
      "source": [
        "Данные подготовлены, приведены в удобный для исследования вид. Можно приступать к исследованию."
      ],
      "metadata": {
        "id": "wn6afTwLp0XF"
      }
    },
    {
      "cell_type": "markdown",
      "source": [
        "# Исследование данных.\n",
        "\n",
        "##Сравнение фактической и прогнозной численности населения городов\n",
        "\n",
        "Для сравнения фактической и прогнозной численности любого города воспользуемся графиком для удобства восприятия. В качестве примера исследуем город Бокситогорск."
      ],
      "metadata": {
        "id": "BHljYugzp0y9"
      }
    },
    {
      "cell_type": "code",
      "source": [
        "print (df[df['town']=='Бокситогорск']['town'].values [0])\n",
        "df[df['town']=='Бокситогорск'].plot(x=\"year\", y=[\"model\", \"fact\"], title='Фактическая и прогнозная численность населения', ylabel= 'Количество населения');"
      ],
      "metadata": {
        "id": "o3DYB6SUyB0q",
        "colab": {
          "base_uri": "https://localhost:8080/",
          "height": 489
        },
        "outputId": "c0b3eb67-d9c5-41eb-bc62-43c6aff0aff4"
      },
      "execution_count": 21,
      "outputs": [
        {
          "output_type": "stream",
          "name": "stdout",
          "text": [
            "Бокситогорск\n"
          ]
        },
        {
          "output_type": "display_data",
          "data": {
            "text/plain": [
              "<Figure size 640x480 with 1 Axes>"
            ],
            "image/png": "[encoded data removed]"
          },
          "metadata": {}
        }
      ]
    },
    {
      "cell_type": "markdown",
      "source": [
        "График не удобен для восприятия, так как охватывает слишком большой временной отрезок. Ограничим участок вывода на график годами, когда есть данные о фактическом количестве жителей. И нули все же придется заменить на NaN для удобства восприятия (подошва - не красивая)."
      ],
      "metadata": {
        "id": "v0BT2vCbobTK"
      }
    },
    {
      "cell_type": "code",
      "source": [
        "df['fact'] = df[df['fact']!=0]['fact']\n",
        "df.head(10)"
      ],
      "metadata": {
        "colab": {
          "base_uri": "https://localhost:8080/",
          "height": 363
        },
        "id": "zxp1WrmEiJvU",
        "outputId": "e87d97a5-10d4-48e4-cb86-4a25aead531f"
      },
      "execution_count": 22,
      "outputs": [
        {
          "output_type": "execute_result",
          "data": {
            "text/plain": [
              "         town  year     fact  model  lower_limit  upper_limit\n",
              "0  Белокуриха  2000      NaN  15400        15100        15700\n",
              "1  Белокуриха  2001      NaN  15400        15100        15700\n",
              "2  Белокуриха  2002      NaN  15400        15000        15700\n",
              "3  Белокуриха  2003      NaN  15300        15000        15700\n",
              "4  Белокуриха  2004      NaN  15300        14900        15600\n",
              "5  Белокуриха  2005      NaN  15200        14800        15500\n",
              "6  Белокуриха  2006      NaN  15100        14700        15400\n",
              "7  Белокуриха  2007      NaN  15000        14600        15300\n",
              "8  Белокуриха  2008  14781.0  14900        14600        15200\n",
              "9  Белокуриха  2009  14781.0  14800        14500        15100"
            ],
            "text/html": [
              "\n",
              "  <div id=\"df-9c679605-b669-46f8-bf32-b8a51e82b959\" class=\"colab-df-container\">\n",
              "    <div>\n",
              "<style scoped>\n",
              "    .dataframe tbody tr th:only-of-type {\n",
              "        vertical-align: middle;\n",
              "    }\n",
              "\n",
              "    .dataframe tbody tr th {\n",
              "        vertical-align: top;\n",
              "    }\n",
              "\n",
              "    .dataframe thead th {\n",
              "        text-align: right;\n",
              "    }\n",
              "</style>\n",
              "<table border=\"1\" class=\"dataframe\">\n",
              "  <thead>\n",
              "    <tr style=\"text-align: right;\">\n",
              "      <th></th>\n",
              "      <th>town</th>\n",
              "      <th>year</th>\n",
              "      <th>fact</th>\n",
              "      <th>model</th>\n",
              "      <th>lower_limit</th>\n",
              "      <th>upper_limit</th>\n",
              "    </tr>\n",
              "  </thead>\n",
              "  <tbody>\n",
              "    <tr>\n",
              "      <th>0</th>\n",
              "      <td>Белокуриха</td>\n",
              "      <td>2000</td>\n",
              "      <td>NaN</td>\n",
              "      <td>15400</td>\n",
              "      <td>15100</td>\n",
              "      <td>15700</td>\n",
              "    </tr>\n",
              "    <tr>\n",
              "      <th>1</th>\n",
              "      <td>Белокуриха</td>\n",
              "      <td>2001</td>\n",
              "      <td>NaN</td>\n",
              "      <td>15400</td>\n",
              "      <td>15100</td>\n",
              "      <td>15700</td>\n",
              "    </tr>\n",
              "    <tr>\n",
              "      <th>2</th>\n",
              "      <td>Белокуриха</td>\n",
              "      <td>2002</td>\n",
              "      <td>NaN</td>\n",
              "      <td>15400</td>\n",
              "      <td>15000</td>\n",
              "      <td>15700</td>\n",
              "    </tr>\n",
              "    <tr>\n",
              "      <th>3</th>\n",
              "      <td>Белокуриха</td>\n",
              "      <td>2003</td>\n",
              "      <td>NaN</td>\n",
              "      <td>15300</td>\n",
              "      <td>15000</td>\n",
              "      <td>15700</td>\n",
              "    </tr>\n",
              "    <tr>\n",
              "      <th>4</th>\n",
              "      <td>Белокуриха</td>\n",
              "      <td>2004</td>\n",
              "      <td>NaN</td>\n",
              "      <td>15300</td>\n",
              "      <td>14900</td>\n",
              "      <td>15600</td>\n",
              "    </tr>\n",
              "    <tr>\n",
              "      <th>5</th>\n",
              "      <td>Белокуриха</td>\n",
              "      <td>2005</td>\n",
              "      <td>NaN</td>\n",
              "      <td>15200</td>\n",
              "      <td>14800</td>\n",
              "      <td>15500</td>\n",
              "    </tr>\n",
              "    <tr>\n",
              "      <th>6</th>\n",
              "      <td>Белокуриха</td>\n",
              "      <td>2006</td>\n",
              "      <td>NaN</td>\n",
              "      <td>15100</td>\n",
              "      <td>14700</td>\n",
              "      <td>15400</td>\n",
              "    </tr>\n",
              "    <tr>\n",
              "      <th>7</th>\n",
              "      <td>Белокуриха</td>\n",
              "      <td>2007</td>\n",
              "      <td>NaN</td>\n",
              "      <td>15000</td>\n",
              "      <td>14600</td>\n",
              "      <td>15300</td>\n",
              "    </tr>\n",
              "    <tr>\n",
              "      <th>8</th>\n",
              "      <td>Белокуриха</td>\n",
              "      <td>2008</td>\n",
              "      <td>14781.0</td>\n",
              "      <td>14900</td>\n",
              "      <td>14600</td>\n",
              "      <td>15200</td>\n",
              "    </tr>\n",
              "    <tr>\n",
              "      <th>9</th>\n",
              "      <td>Белокуриха</td>\n",
              "      <td>2009</td>\n",
              "      <td>14781.0</td>\n",
              "      <td>14800</td>\n",
              "      <td>14500</td>\n",
              "      <td>15100</td>\n",
              "    </tr>\n",
              "  </tbody>\n",
              "</table>\n",
              "</div>\n",
              "    <div class=\"colab-df-buttons\">\n",
              "\n",
              "  <div class=\"colab-df-container\">\n",
              "    <button class=\"colab-df-convert\" onclick=\"convertToInteractive('df-9c679605-b669-46f8-bf32-b8a51e82b959')\"\n",
              "            title=\"Convert this dataframe to an interactive table.\"\n",
              "            style=\"display:none;\">\n",
              "\n",
              "  <svg xmlns=\"http://www.w3.org/2000/svg\" height=\"24px\" viewBox=\"0 -960 960 960\">\n",
              "    <path d=\"M120-120v-720h720v720H120Zm60-500h600v-160H180v160Zm220 220h160v-160H400v160Zm0 220h160v-160H400v160ZM180-400h160v-160H180v160Zm440 0h160v-160H620v160ZM180-180h160v-160H180v160Zm440 0h160v-160H620v160Z\"/>\n",
              "  </svg>\n",
              "    </button>\n",
              "\n",
              "  <style>\n",
              "    .colab-df-container {\n",
              "      display:flex;\n",
              "      gap: 12px;\n",
              "    }\n",
              "\n",
              "    .colab-df-convert {\n",
              "      background-color: #E8F0FE;\n",
              "      border: none;\n",
              "      border-radius: 50%;\n",
              "      cursor: pointer;\n",
              "      display: none;\n",
              "      fill: #1967D2;\n",
              "      height: 32px;\n",
              "      padding: 0 0 0 0;\n",
              "      width: 32px;\n",
              "    }\n",
              "\n",
              "    .colab-df-convert:hover {\n",
              "      background-color: #E2EBFA;\n",
              "      box-shadow: 0px 1px 2px rgba(60, 64, 67, 0.3), 0px 1px 3px 1px rgba(60, 64, 67, 0.15);\n",
              "      fill: #174EA6;\n",
              "    }\n",
              "\n",
              "    .colab-df-buttons div {\n",
              "      margin-bottom: 4px;\n",
              "    }\n",
              "\n",
              "    [theme=dark] .colab-df-convert {\n",
              "      background-color: #3B4455;\n",
              "      fill: #D2E3FC;\n",
              "    }\n",
              "\n",
              "    [theme=dark] .colab-df-convert:hover {\n",
              "      background-color: #434B5C;\n",
              "      box-shadow: 0px 1px 3px 1px rgba(0, 0, 0, 0.15);\n",
              "      filter: drop-shadow(0px 1px 2px rgba(0, 0, 0, 0.3));\n",
              "      fill: #FFFFFF;\n",
              "    }\n",
              "  </style>\n",
              "\n",
              "    <script>\n",
              "      const buttonEl =\n",
              "        document.querySelector('#df-9c679605-b669-46f8-bf32-b8a51e82b959 button.colab-df-convert');\n",
              "      buttonEl.style.display =\n",
              "        google.colab.kernel.accessAllowed ? 'block' : 'none';\n",
              "\n",
              "      async function convertToInteractive(key) {\n",
              "        const element = document.querySelector('#df-9c679605-b669-46f8-bf32-b8a51e82b959');\n",
              "        const dataTable =\n",
              "          await google.colab.kernel.invokeFunction('convertToInteractive',\n",
              "                                                    [key], {});\n",
              "        if (!dataTable) return;\n",
              "\n",
              "        const docLinkHtml = 'Like what you see? Visit the ' +\n",
              "          '<a target=\"_blank\" href=https://colab.research.google.com/notebooks/data_table.ipynb>data table notebook</a>'\n",
              "          + ' to learn more about interactive tables.';\n",
              "        element.innerHTML = '';\n",
              "        dataTable['output_type'] = 'display_data';\n",
              "        await google.colab.output.renderOutput(dataTable, element);\n",
              "        const docLink = document.createElement('div');\n",
              "        docLink.innerHTML = docLinkHtml;\n",
              "        element.appendChild(docLink);\n",
              "      }\n",
              "    </script>\n",
              "  </div>\n",
              "\n",
              "\n",
              "<div id=\"df-dd8d1326-3b17-4857-aee5-442b0dbf95ba\">\n",
              "  <button class=\"colab-df-quickchart\" onclick=\"quickchart('df-dd8d1326-3b17-4857-aee5-442b0dbf95ba')\"\n",
              "            title=\"Suggest charts\"\n",
              "            style=\"display:none;\">\n",
              "\n",
              "<svg xmlns=\"http://www.w3.org/2000/svg\" height=\"24px\"viewBox=\"0 0 24 24\"\n",
              "     width=\"24px\">\n",
              "    <g>\n",
              "        <path d=\"M19 3H5c-1.1 0-2 .9-2 2v14c0 1.1.9 2 2 2h14c1.1 0 2-.9 2-2V5c0-1.1-.9-2-2-2zM9 17H7v-7h2v7zm4 0h-2V7h2v10zm4 0h-2v-4h2v4z\"/>\n",
              "    </g>\n",
              "</svg>\n",
              "  </button>\n",
              "\n",
              "<style>\n",
              "  .colab-df-quickchart {\n",
              "      --bg-color: #E8F0FE;\n",
              "      --fill-color: #1967D2;\n",
              "      --hover-bg-color: #E2EBFA;\n",
              "      --hover-fill-color: #174EA6;\n",
              "      --disabled-fill-color: #AAA;\n",
              "      --disabled-bg-color: #DDD;\n",
              "  }\n",
              "\n",
              "  [theme=dark] .colab-df-quickchart {\n",
              "      --bg-color: #3B4455;\n",
              "      --fill-color: #D2E3FC;\n",
              "      --hover-bg-color: #434B5C;\n",
              "      --hover-fill-color: #FFFFFF;\n",
              "      --disabled-bg-color: #3B4455;\n",
              "      --disabled-fill-color: #666;\n",
              "  }\n",
              "\n",
              "  .colab-df-quickchart {\n",
              "    background-color: var(--bg-color);\n",
              "    border: none;\n",
              "    border-radius: 50%;\n",
              "    cursor: pointer;\n",
              "    display: none;\n",
              "    fill: var(--fill-color);\n",
              "    height: 32px;\n",
              "    padding: 0;\n",
              "    width: 32px;\n",
              "  }\n",
              "\n",
              "  .colab-df-quickchart:hover {\n",
              "    background-color: var(--hover-bg-color);\n",
              "    box-shadow: 0 1px 2px rgba(60, 64, 67, 0.3), 0 1px 3px 1px rgba(60, 64, 67, 0.15);\n",
              "    fill: var(--button-hover-fill-color);\n",
              "  }\n",
              "\n",
              "  .colab-df-quickchart-complete:disabled,\n",
              "  .colab-df-quickchart-complete:disabled:hover {\n",
              "    background-color: var(--disabled-bg-color);\n",
              "    fill: var(--disabled-fill-color);\n",
              "    box-shadow: none;\n",
              "  }\n",
              "\n",
              "  .colab-df-spinner {\n",
              "    border: 2px solid var(--fill-color);\n",
              "    border-color: transparent;\n",
              "    border-bottom-color: var(--fill-color);\n",
              "    animation:\n",
              "      spin 1s steps(1) infinite;\n",
              "  }\n",
              "\n",
              "  @keyframes spin {\n",
              "    0% {\n",
              "      border-color: transparent;\n",
              "      border-bottom-color: var(--fill-color);\n",
              "      border-left-color: var(--fill-color);\n",
              "    }\n",
              "    20% {\n",
              "      border-color: transparent;\n",
              "      border-left-color: var(--fill-color);\n",
              "      border-top-color: var(--fill-color);\n",
              "    }\n",
              "    30% {\n",
              "      border-color: transparent;\n",
              "      border-left-color: var(--fill-color);\n",
              "      border-top-color: var(--fill-color);\n",
              "      border-right-color: var(--fill-color);\n",
              "    }\n",
              "    40% {\n",
              "      border-color: transparent;\n",
              "      border-right-color: var(--fill-color);\n",
              "      border-top-color: var(--fill-color);\n",
              "    }\n",
              "    60% {\n",
              "      border-color: transparent;\n",
              "      border-right-color: var(--fill-color);\n",
              "    }\n",
              "    80% {\n",
              "      border-color: transparent;\n",
              "      border-right-color: var(--fill-color);\n",
              "      border-bottom-color: var(--fill-color);\n",
              "    }\n",
              "    90% {\n",
              "      border-color: transparent;\n",
              "      border-bottom-color: var(--fill-color);\n",
              "    }\n",
              "  }\n",
              "</style>\n",
              "\n",
              "  <script>\n",
              "    async function quickchart(key) {\n",
              "      const quickchartButtonEl =\n",
              "        document.querySelector('#' + key + ' button');\n",
              "      quickchartButtonEl.disabled = true;  // To prevent multiple clicks.\n",
              "      quickchartButtonEl.classList.add('colab-df-spinner');\n",
              "      try {\n",
              "        const charts = await google.colab.kernel.invokeFunction(\n",
              "            'suggestCharts', [key], {});\n",
              "      } catch (error) {\n",
              "        console.error('Error during call to suggestCharts:', error);\n",
              "      }\n",
              "      quickchartButtonEl.classList.remove('colab-df-spinner');\n",
              "      quickchartButtonEl.classList.add('colab-df-quickchart-complete');\n",
              "    }\n",
              "    (() => {\n",
              "      let quickchartButtonEl =\n",
              "        document.querySelector('#df-dd8d1326-3b17-4857-aee5-442b0dbf95ba button');\n",
              "      quickchartButtonEl.style.display =\n",
              "        google.colab.kernel.accessAllowed ? 'block' : 'none';\n",
              "    })();\n",
              "  </script>\n",
              "</div>\n",
              "    </div>\n",
              "  </div>\n"
            ],
            "application/vnd.google.colaboratory.intrinsic+json": {
              "type": "dataframe",
              "variable_name": "df",
              "summary": "{\n  \"name\": \"df\",\n  \"rows\": 30250,\n  \"fields\": [\n    {\n      \"column\": \"town\",\n      \"properties\": {\n        \"dtype\": \"category\",\n        \"num_unique_values\": 248,\n        \"samples\": [\n          \"\\u041d\\u043e\\u0432\\u043e\\u0430\\u043d\\u043d\\u0438\\u043d\\u0441\\u043a\\u0438\\u0439\",\n          \"\\u0411\\u043e\\u043b\\u044c\\u0448\\u043e\\u0439 \\u041a\\u0430\\u043c\\u0435\\u043d\\u044c\",\n          \"\\u041f\\u043e\\u043b\\u0435\\u0432\\u0441\\u043a\\u043e\\u0439\"\n        ],\n        \"semantic_type\": \"\",\n        \"description\": \"\"\n      }\n    },\n    {\n      \"column\": \"year\",\n      \"properties\": {\n        \"dtype\": \"number\",\n        \"std\": 34,\n        \"min\": 2000,\n        \"max\": 2120,\n        \"num_unique_values\": 121,\n        \"samples\": [\n          2044,\n          2047,\n          2004\n        ],\n        \"semantic_type\": \"\",\n        \"description\": \"\"\n      }\n    },\n    {\n      \"column\": \"fact\",\n      \"properties\": {\n        \"dtype\": \"number\",\n        \"std\": 767593.0628529668,\n        \"min\": 2370.0,\n        \"max\": 12678079.0,\n        \"num_unique_values\": 2408,\n        \"samples\": [\n          54877.0,\n          32940.0,\n          89570.0\n        ],\n        \"semantic_type\": \"\",\n        \"description\": \"\"\n      }\n    },\n    {\n      \"column\": \"model\",\n      \"properties\": {\n        \"dtype\": \"number\",\n        \"std\": 886619,\n        \"min\": 0,\n        \"max\": 15419400,\n        \"num_unique_values\": 4332,\n        \"samples\": [\n          192600,\n          4600,\n          600300\n        ],\n        \"semantic_type\": \"\",\n        \"description\": \"\"\n      }\n    },\n    {\n      \"column\": \"lower_limit\",\n      \"properties\": {\n        \"dtype\": \"number\",\n        \"std\": 881804,\n        \"min\": 0,\n        \"max\": 15304200,\n        \"num_unique_values\": 4340,\n        \"samples\": [\n          550700,\n          72900,\n          434900\n        ],\n        \"semantic_type\": \"\",\n        \"description\": \"\"\n      }\n    },\n    {\n      \"column\": \"upper_limit\",\n      \"properties\": {\n        \"dtype\": \"number\",\n        \"std\": 891467,\n        \"min\": 400,\n        \"max\": 15535500,\n        \"num_unique_values\": 4373,\n        \"samples\": [\n          169300,\n          14900,\n          48400\n        ],\n        \"semantic_type\": \"\",\n        \"description\": \"\"\n      }\n    }\n  ]\n}"
            }
          },
          "metadata": {},
          "execution_count": 22
        }
      ]
    },
    {
      "cell_type": "code",
      "source": [
        "print (df[df['town']=='Бокситогорск']['town'].values [0])\n",
        "df[df['town']=='Бокситогорск'].plot(x=\"year\", y=[\"model\", \"fact\"], title='Фактическая и прогнозная численность населения', ylabel= 'Количество населения');"
      ],
      "metadata": {
        "colab": {
          "base_uri": "https://localhost:8080/",
          "height": 489
        },
        "id": "AJxMSQwijkrV",
        "outputId": "bfd154e1-5740-4c14-ff18-c3df1ee91906"
      },
      "execution_count": 23,
      "outputs": [
        {
          "output_type": "stream",
          "name": "stdout",
          "text": [
            "Бокситогорск\n"
          ]
        },
        {
          "output_type": "display_data",
          "data": {
            "text/plain": [
              "<Figure size 640x480 with 1 Axes>"
            ],
            "image/png": "[encoded data removed]"
          },
          "metadata": {}
        }
      ]
    },
    {
      "cell_type": "markdown",
      "source": [
        "График тоже не очень красив, сократим диапазон дат до годов в которых были замеры фактического количества населения."
      ],
      "metadata": {
        "id": "rJXJDc-Cjufg"
      }
    },
    {
      "cell_type": "code",
      "source": [
        "print (df[df['town']=='Бокситогорск']['town'].values [0])\n",
        "df[df['town']=='Бокситогорск'].query('year >=2008 & year <= 2020').plot(x=\"year\", y=[\"model\", \"fact\"], title='Фактическая и прогнозная численность населения', ylabel= 'Количество населения');"
      ],
      "metadata": {
        "id": "xaqasO42crwv",
        "colab": {
          "base_uri": "https://localhost:8080/",
          "height": 489
        },
        "outputId": "6427e6b2-71b7-43ba-a377-970248ee0751"
      },
      "execution_count": 24,
      "outputs": [
        {
          "output_type": "stream",
          "name": "stdout",
          "text": [
            "Бокситогорск\n"
          ]
        },
        {
          "output_type": "display_data",
          "data": {
            "text/plain": [
              "<Figure size 640x480 with 1 Axes>"
            ],
            "image/png": "[encoded data removed]"
          },
          "metadata": {}
        }
      ]
    },
    {
      "cell_type": "code",
      "source": [],
      "metadata": {
        "id": "B6eLiWC3Jiqx"
      },
      "execution_count": 24,
      "outputs": []
    },
    {
      "cell_type": "markdown",
      "source": [
        "График получился тоже не очень информативным: отличие модели от фактического количества населения есть, но понять из графика о величине и критичности этого отклонения невозможно.\n",
        "\n",
        "Более удобным будет график попадания фактической численности населения в промежуток **МИН** и **МАКС** расчетной модели. Для удобства восприятия размер можно сделать побольше, а вывод на экран, как гистограмму."
      ],
      "metadata": {
        "id": "aGfauobrXX-J"
      }
    },
    {
      "cell_type": "code",
      "source": [
        "print (df[df['town']=='Бокситогорск']['town'].values [0])\n",
        "df[df['town']=='Бокситогорск'].query('year >=2008 & year <= 2020').plot(figsize=(20, 3),\n",
        "                                                                        kind=\"bar\",x=\"year\", y=[\"lower_limit\", \"fact\", \"upper_limit\"],\n",
        "                                                                        title='Фактическая и прогнозная численность населения', ylabel= 'Количество населения');"
      ],
      "metadata": {
        "id": "8W4Z_l_11ytm",
        "colab": {
          "base_uri": "https://localhost:8080/",
          "height": 371
        },
        "outputId": "6aa80c04-a643-453b-c62c-00f5f0423c71"
      },
      "execution_count": null,
      "outputs": [
        {
          "output_type": "stream",
          "name": "stdout",
          "text": [
            "Бокситогорск\n"
          ]
        },
        {
          "output_type": "display_data",
          "data": {
            "text/plain": [
              "<Figure size 2000x300 with 1 Axes>"
            ],
            "image/png": "[encoded data removed]"
          },
          "metadata": {}
        }
      ]
    },
    {
      "cell_type": "markdown",
      "source": [
        "На графике можно разглядеть, что фактическое количество населения в наблюдаемом промежутке времени практически всегда находиться между **МИН** и **МАКС** значениями, расчитаными моделью.\n",
        "\n",
        "Но на графике плохо видна тенденция (роста или падения). Исправить данное недоразумение поможет изменение масштаба и координат оси *количество населения*."
      ],
      "metadata": {
        "id": "nOrGnc1U8gs3"
      }
    },
    {
      "cell_type": "code",
      "source": [
        "print (df[df['town']=='Бокситогорск']['town'].values [0])\n",
        "df[df['town']=='Бокситогорск'].query('year >=2008 & year <= 2020').plot(figsize=(15, 3),\n",
        "                                                                        kind=\"bar\",x=\"year\", y=[\"lower_limit\", \"fact\", \"upper_limit\"],\n",
        "                                                                        title='Фактическая и прогнозная численность населения', ylabel= 'Количество населения',\n",
        "                                                                       ylim=(15200,15700));\n"
      ],
      "metadata": {
        "colab": {
          "base_uri": "https://localhost:8080/",
          "height": 371
        },
        "id": "p5h4LVMj40RZ",
        "outputId": "30733aab-92de-4a22-b44b-ca0bd3561d8d"
      },
      "execution_count": null,
      "outputs": [
        {
          "output_type": "stream",
          "name": "stdout",
          "text": [
            "Бокситогорск\n"
          ]
        },
        {
          "output_type": "display_data",
          "data": {
            "text/plain": [
              "<Figure size 1500x300 with 1 Axes>"
            ],
            "image/png": "[encoded data removed]"
          },
          "metadata": {}
        }
      ]
    },
    {
      "cell_type": "markdown",
      "source": [
        "Получился наиболее информативный график соответствия расчетов модели фактическому количеству населения.\n",
        "\n",
        "Просмотр этого графика имеет смысл тоько для отдельных городов. Просмотр по всем представленным данным может исказить результаты, так как  модель может давать неверные прогнозы, как в верхнюю сторону, так и в нижнюю сторону по разным городам.\n",
        "\n",
        "##Рассмотрение тенденций изменения населения городов на длительном периоде.\n",
        "\n",
        "Вывод графической информации о прогнозе модели до 2120 года по разным городам может показать тенденцию развития этого города в связи и с изменениями количества жителей."
      ],
      "metadata": {
        "id": "pD3ZZpr6E9t9"
      }
    },
    {
      "cell_type": "code",
      "source": [
        "print (df[df['town']=='Бокситогорск']['town'].values [0])\n",
        "df[df['town']=='Бокситогорск'].plot(title='Фактическая и прогнозная численность населения', ylabel= 'Количество населения', x=\"year\", y=[\"model\", \"fact\"]);"
      ],
      "metadata": {
        "colab": {
          "base_uri": "https://localhost:8080/",
          "height": 489
        },
        "id": "_6bzwMobV5ZZ",
        "outputId": "b094ffea-f9ab-405f-82d5-44be2078cc6f"
      },
      "execution_count": null,
      "outputs": [
        {
          "output_type": "stream",
          "name": "stdout",
          "text": [
            "Бокситогорск\n"
          ]
        },
        {
          "output_type": "display_data",
          "data": {
            "text/plain": [
              "<Figure size 640x480 with 1 Axes>"
            ],
            "image/png": "[encoded data removed]"
          },
          "metadata": {}
        }
      ]
    },
    {
      "cell_type": "markdown",
      "source": [
        "Для другого города:"
      ],
      "metadata": {
        "id": "7ualzUhmts49"
      }
    },
    {
      "cell_type": "code",
      "source": [
        "print (df[df['town']=='Анапа']['town'].values [0])\n",
        "df[df['town']=='Анапа'].plot(title='Фактическая и прогнозная численность населения', ylabel= 'Количество населения', x=\"year\", y=[\"model\", \"fact\"]);"
      ],
      "metadata": {
        "colab": {
          "base_uri": "https://localhost:8080/",
          "height": 489
        },
        "id": "fq0FJG8vYHdI",
        "outputId": "66262cd4-a4d9-4dcd-df85-dff1d14ecc1d"
      },
      "execution_count": 25,
      "outputs": [
        {
          "output_type": "stream",
          "name": "stdout",
          "text": [
            "Анапа\n"
          ]
        },
        {
          "output_type": "display_data",
          "data": {
            "text/plain": [
              "<Figure size 640x480 with 1 Axes>"
            ],
            "image/png": "[encoded data removed]"
          },
          "metadata": {}
        }
      ]
    },
    {
      "cell_type": "markdown",
      "source": [
        "Рассматривая тенденции изменения населения в конкретном городе может возникнуть ситуация необходимости сравнения перспектив в разных городах.\n",
        "\n",
        "##Сравнение перспектив развития населения в разных городах.\n",
        "\n",
        "Распологая графики один под другим, можно увидеть различие меджу этими городами."
      ],
      "metadata": {
        "id": "JY-RjThwcOFm"
      }
    },
    {
      "cell_type": "code",
      "source": [
        "#print (df[df['town']=='Бокситогорск']['town'].values [0])\n",
        "df[df['town']=='Бокситогорск'].plot(title='Фактическая и прогнозная численность населения', ylabel= 'Количество населения', x=\"year\", y=[\"model\", \"fact\"])\n",
        "print()\n",
        "#print (df[df['town']=='Анапа']['town'].values [0])\n",
        "df[df['town']=='Анапа'].plot(title='Фактическая и прогнозная численность населения', ylabel= 'Количество населения', x=\"year\", y=[\"model\", \"fact\"]);"
      ],
      "metadata": {
        "colab": {
          "base_uri": "https://localhost:8080/",
          "height": 944
        },
        "id": "whfE2XNzfr_9",
        "outputId": "09854663-8689-4fe1-cf8d-69e642092883"
      },
      "execution_count": 27,
      "outputs": [
        {
          "output_type": "stream",
          "name": "stdout",
          "text": [
            "\n"
          ]
        },
        {
          "output_type": "display_data",
          "data": {
            "text/plain": [
              "<Figure size 640x480 with 1 Axes>"
            ],
            "image/png": "[encoded data removed]"
          },
          "metadata": {}
        },
        {
          "output_type": "display_data",
          "data": {
            "text/plain": [
              "<Figure size 640x480 with 1 Axes>"
            ],
            "image/png": "[encoded data removed]"
          },
          "metadata": {}
        }
      ]
    },
    {
      "cell_type": "code",
      "source": [
        "print (df[df['town']=='Ялта'].tail(25))  #.values [0]"
      ],
      "metadata": {
        "id": "WJirKS0Sp4L0",
        "colab": {
          "base_uri": "https://localhost:8080/"
        },
        "outputId": "2d9331c3-531a-4a66-bb76-2a37c0633425"
      },
      "execution_count": 34,
      "outputs": [
        {
          "output_type": "stream",
          "name": "stdout",
          "text": [
            "       town  year  fact   model  lower_limit  upper_limit\n",
            "13043  Ялта  2096   NaN  198300       196600       200000\n",
            "13044  Ялта  2097   NaN  198900       197200       200600\n",
            "13045  Ялта  2098   NaN  199500       197800       201100\n",
            "13046  Ялта  2099   NaN  200000       198400       201700\n",
            "13047  Ялта  2100   NaN  200600       198900       202200\n",
            "13048  Ялта  2101   NaN  201100       199400       202800\n",
            "13049  Ялта  2102   NaN  201600       199900       203300\n",
            "13050  Ялта  2103   NaN  202100       200400       203800\n",
            "13051  Ялта  2104   NaN  202600       200900       204300\n",
            "13052  Ялта  2105   NaN  203100       201400       204800\n",
            "13053  Ялта  2106   NaN  203500       201900       205200\n",
            "13054  Ялта  2107   NaN  204000       202300       205700\n",
            "13055  Ялта  2108   NaN  204400       202700       206100\n",
            "13056  Ялта  2109   NaN  204900       203200       206600\n",
            "13057  Ялта  2110   NaN  205300       203600       207000\n",
            "13058  Ялта  2111   NaN  205700       204000       207400\n",
            "13059  Ялта  2112   NaN  206100       204400       207800\n",
            "13060  Ялта  2113   NaN  206400       204700       208100\n",
            "13061  Ялта  2114   NaN  206800       205100       208500\n",
            "13062  Ялта  2115   NaN  207100       205400       208900\n",
            "13063  Ялта  2116   NaN  207500       205800       209200\n",
            "13064  Ялта  2117   NaN  207800       206100       209500\n",
            "13065  Ялта  2118   NaN  208100       206400       209900\n",
            "13066  Ялта  2119   NaN  208400       206700       210200\n",
            "13067  Ялта  2120   NaN  208700       207000       210500\n"
          ]
        }
      ]
    },
    {
      "cell_type": "markdown",
      "source": [
        "На графике видно, что в Тольяти за 2046 год,в городе Набережные челны за 2078, в Ялте за 2099 нет сведений по прогнозам. Также нет в некоторых других."
      ],
      "metadata": {
        "id": "4kvotiCD4i9T"
      }
    }
  ]
}